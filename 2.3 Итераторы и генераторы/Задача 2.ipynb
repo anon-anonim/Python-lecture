{
 "cells": [
  {
   "cell_type": "markdown",
   "metadata": {},
   "source": [
    "## **Задача 2**"
   ]
  },
  {
   "cell_type": "markdown",
   "metadata": {},
   "source": [
    "Целое положительное число называется простым, если оно имеет ровно два различных делителя, то есть делится только на единицу и на само себя.  \n",
    "Например, число **2** является простым, так как делится только на **1** и **2**. Также простыми являются, например, числа **3, 5, 31**, и еще бесконечно много чисел.  \n",
    "Число **4**, например, не является простым, так как имеет три делителя **– 1, 2, 4**. Также простым не является число **1**, так как оно имеет ровно один делитель – **1**.  \n",
    "  \n",
    "Реализуйте функцию-генератор primes, которая будет генерировать простые числа в порядке возрастания, начиная с числа 2.  \n",
    "  \n",
    "   \n",
    "   **Пример использования:**"
   ]
  },
  {
   "cell_type": "code",
   "execution_count": null,
   "metadata": {},
   "outputs": [],
   "source": [
    "print(list(itertools.takewhile(lambda x : x <= 31, primes())))\n",
    "# [2, 3, 5, 7, 11, 13, 17, 19, 23, 29, 31]"
   ]
  },
  {
   "cell_type": "markdown",
   "metadata": {},
   "source": [
    "## **Решение**"
   ]
  },
  {
   "cell_type": "code",
   "execution_count": null,
   "metadata": {},
   "outputs": [],
   "source": [
    "def primes():\n",
    "    a = 1\n",
    "    def prime_numbers(a):\n",
    "        for i in range(2,int((a)**0.5)+1):\n",
    "            if a%i == 0:\n",
    "                return False\n",
    "    while True:\n",
    "        a += 1\n",
    "        if prime_numbers(a) == False:\n",
    "            continue\n",
    "        else:\n",
    "            yield a"
   ]
  },
  {
   "cell_type": "markdown",
   "metadata": {},
   "source": [
    "## **Тест**"
   ]
  },
  {
   "cell_type": "code",
   "execution_count": null,
   "metadata": {},
   "outputs": [],
   "source": [
    "import itertools\n",
    "print(list(itertools.takewhile(lambda x : x <= 31, primes())))\n",
    "# [2, 3, 5, 7, 11, 13, 17, 19, 23, 29, 31]"
   ]
  }
 ],
 "metadata": {
  "language_info": {
   "name": "python"
  },
  "orig_nbformat": 4
 },
 "nbformat": 4,
 "nbformat_minor": 2
}
