{
 "cells": [
  {
   "cell_type": "markdown",
   "metadata": {},
   "source": [
    "## **Задача 1**"
   ]
  },
  {
   "cell_type": "markdown",
   "metadata": {},
   "source": [
    "Одним из самых часто используемых классов в Python является класс **filter**. Он принимает в конструкторе два аргумента **a** и **f** – последовательность и функцию, и позволяет проитерироваться только по таким элементам x из последовательности a, что f(x) равно True. Будем говорить, что в этом случае функция f допускает элемент x, а элемент x является допущенным.  \n",
    "\n",
    "В данной задаче мы просим вас реализовать класс **multifilter**, который будет выполнять ту же функцию, что и стандартный класс **filter**, но будет использовать не одну функцию, а несколько.  \n",
    "\n",
    "Решение о допуске элемента будет приниматься на основании того, сколько функций допускают этот элемент, и сколько не допускают. Обозначим эти количества за **pos** и **neg**.  \n",
    "\n",
    "Введем понятие решающей функции – это функция, которая принимает два аргумента – количества pos и neg, и возвращает **True**, если элемент допущен, и **False** иначе.  \n",
    "\n",
    "Рассмотрим процесс допуска подробнее на следующем примере.  \n",
    "*a = [1, 2, 3]*  \n",
    "*f2(x) = x % 2 == 0* # возвращает **True**, если x делится на 2  \n",
    "*f3(x) = x % 3 == 0* \n",
    "*judge_any(pos, neg)* *= pos >= 1* # возвращает **True**, если хотя бы одна функция допускает элемент  \n",
    "\n",
    "В этом примере мы хотим отфильтровать последовательность a и оставить только те элементы, которые делятся на два или на три.  \n",
    "\n",
    "Функция **f2** допускает только элементы, делящиеся на два, а функция **f3** допускает только элементы, делящиеся на три. Решающая функция допускает элемент в случае, если он был допущен хотя бы одной из функций **f2** или **f3**, то есть элементы, которые делятся на два или на три.  \n",
    "\n",
    "Возьмем первый элемент *x = 1*.  \n",
    "**f2(x)** равно **False**, т. е. функция *f2* не допускает элемент *x*.  \n",
    "f3(x) также равно **False**, т. е. функция *f3* также не допускает элемент *x*.  \n",
    "В этом случае *pos = 0*, так как ни одна функция не допускает *x*, и соответственно *neg = 2*.  \n",
    "**judge_any(0, 2)** равно **False**, значит мы не допускаем элемент *x = 1*.\n",
    "\n",
    "Возьмем второй элемент *x = 2*.  \n",
    "*f2(x)* равно **True**  \n",
    "*f3(x)* равно **False**  \n",
    "*pos = 1*, *neg = 1*  \n",
    "*judge_any(1, 1)* равно **True**, значит мы допускаем элемент *x = 2*.  \n",
    "\n",
    "Аналогично для третьего элемента *x = 3*.  \n",
    "\n",
    "Таким образом, получили последовательность допущенных элементов *[2, 3]*.  \n",
    "\n",
    "Класс должен обладать следующей структурой:Одним из самых часто используемых классов в Python является класс **filter**. Он принимает в конструкторе два аргумента *a* и *f* – последовательность и функцию, и позволяет проитерироваться только по таким элементам x из последовательности *a*, что *f(x)* равно True. Будем говорить, что в этом случае функция *f* допускает элемент *x*, а элемент *x* является допущенным.  \n",
    "\n",
    "В данной задаче мы просим вас реализовать класс **multifilter**, который будет выполнять ту же функцию, что и стандартный класс **filter**, но будет использовать не одну функцию, а несколько.  \n",
    "\n",
    "Решение о допуске элемента будет приниматься на основании того, сколько функций допускают этот элемент, и сколько не допускают. Обозначим эти количества за *pos* и *neg*.  \n",
    "\n",
    "Введем понятие решающей функции – это функция, которая принимает два аргумента – количества *pos* и *neg*, и возвращает **True**, если элемент допущен, и **False** иначе.  \n",
    "\n",
    "Рассмотрим процесс допуска подробнее на следующем примере.  \n",
    "*a = [1, 2, 3]* \n",
    "*f2(x) = x % 2 == 0* # возвращает **True**, если x делится на 2  \n",
    "*f3(x) = x % 3 == 0* \n",
    "*judge_any(pos, neg) = pos >= 1* # возвращает **True**, если хотя бы одна функция допускает элемент  \n",
    "\n",
    "В этом примере мы хотим отфильтровать последовательность a и оставить только те элементы, которые делятся на два или на три. \n",
    "\n",
    "Функция *f2* допускает только элементы, делящиеся на два, а функция *f3* допускает только элементы, делящиеся на три. Решающая функция допускает элемент в случае, если он был допущен хотя бы одной из функций *f2* или *f3*, то есть элементы, которые делятся на два или на три.  \n",
    "\n",
    "Возьмем первый элемент *x = 1.*  \n",
    "*f2(x*) равно **False**, т. е. функция *f2* не допускает элемент *x*.  \n",
    "*f3(x)* также равно **False**, т. е. функция *f3* также не допускает элемент *x*.  \n",
    "В этом случае pos = 0, так как ни одна функция не допускает *x*, и соответственно *neg = 2*.  \n",
    "judge_any(0, 2) равно **False**, значит мы не допускаем элемент *x = 1*.  \n",
    "\n",
    "Возьмем второй элемент x = 2.  \n",
    "*f2(x)* равно **True** \n",
    "*f3(x*) равно **False** \n",
    "*pos = 1*, *neg = 1 * \n",
    "judge_any(1, 1) равно True, значит мы допускаем элемент *x = 2*.  \n",
    "\n",
    "Аналогично для третьего элемента *x = 3*.  \n",
    "\n",
    "Таким образом, получили последовательность допущенных элементов *[2, 3]*.  \n",
    "\n",
    "*Класс должен обладать следующей структурой:*"
   ]
  },
  {
   "cell_type": "code",
   "execution_count": null,
   "metadata": {},
   "outputs": [],
   "source": [
    "class multifilter:\n",
    "    def judge_half(pos, neg):\n",
    "        # допускает элемент, если его допускает хотя бы половина фукнций (pos >= neg)\n",
    "\n",
    "    def judge_any(pos, neg):\n",
    "        # допускает элемент, если его допускает хотя бы одна функция (pos >= 1)\n",
    "\n",
    "    def judge_all(pos, neg):\n",
    "        # допускает элемент, если его допускают все функции (neg == 0)\n",
    "\n",
    "    def __init__(self, iterable, *funcs, judge=judge_any):\n",
    "        # iterable - исходная последовательность\n",
    "        # funcs - допускающие функции\n",
    "        # judge - решающая функция\n",
    "\n",
    "    def __iter__(self):\n",
    "        # возвращает итератор по результирующей последовательности\n"
   ]
  },
  {
   "cell_type": "markdown",
   "metadata": {},
   "source": [
    "*Пример использования:*"
   ]
  },
  {
   "cell_type": "code",
   "execution_count": null,
   "metadata": {},
   "outputs": [],
   "source": [
    "def mul2(x):\n",
    "    return x % 2 == 0\n",
    "\n",
    "def mul3(x):\n",
    "    return x % 3 == 0\n",
    "\n",
    "def mul5(x):\n",
    "    return x % 5 == 0\n",
    "\n",
    "\n",
    "a = [i for i in range(31)] # [0, 1, 2, ... , 30]\n",
    "\n",
    "print(list(multifilter(a, mul2, mul3, mul5))) \n",
    "# [0, 2, 3, 4, 5, 6, 8, 9, 10, 12, 14, 15, 16, 18, 20, 21, 22, 24, 25, 26, 27, 28, 30]\n",
    "\n",
    "print(list(multifilter(a, mul2, mul3, mul5, judge=multifilter.judge_half))) \n",
    "# [0, 6, 10, 12, 15, 18, 20, 24, 30]\n",
    "\n",
    "print(list(multifilter(a, mul2, mul3, mul5, judge=multifilter.judge_all))) \n",
    "# [0, 30]"
   ]
  },
  {
   "cell_type": "markdown",
   "metadata": {},
   "source": [
    "## **Filter**"
   ]
  },
  {
   "cell_type": "code",
   "execution_count": null,
   "metadata": {},
   "outputs": [],
   "source": []
  },
  {
   "cell_type": "markdown",
   "metadata": {},
   "source": [
    "### Использование функции *filter()*."
   ]
  },
  {
   "cell_type": "markdown",
   "metadata": {},
   "source": [
    "***filter(function, iterable)***"
   ]
  },
  {
   "cell_type": "code",
   "execution_count": null,
   "metadata": {},
   "outputs": [],
   "source": [
    "creature_names = ['Sammy', 'Ashley', 'Jo', 'Olly', 'Jackie', 'Charlie', 'gari', 'inna', 'Oskar']\n",
    "\n",
    "def test_func(x):    \n",
    "    return x.isalpha()\n",
    "\n",
    "b = filter(lambda x: x[0].isupper() and x[0] in 'SAJ' ,creature_names)\n",
    "\n",
    "type(b)\n"
   ]
  },
  {
   "cell_type": "code",
   "execution_count": null,
   "metadata": {},
   "outputs": [],
   "source": [
    "for i in b:\n",
    "    print(i)"
   ]
  },
  {
   "cell_type": "code",
   "execution_count": null,
   "metadata": {},
   "outputs": [],
   "source": [
    "creature_names = ['Sammy', 'Ashley', 'Jo', 'Olly', 'Jackie', 'Charlie', 'gari', 'inna', 'Oskar']\n",
    "\n",
    "def test_func(x):    \n",
    "    return x[0].isupper() and x[0] in 'SAJ'\n",
    "\n",
    "b = filter(test_func ,creature_names)\n",
    "\n",
    "\n",
    "list(b)"
   ]
  },
  {
   "cell_type": "code",
   "execution_count": null,
   "metadata": {},
   "outputs": [],
   "source": [
    "creature_names = ['Sammy', 'Ashley', 'Jo', 'Olly', 'Jackie', 'Charlie', 'gari', '', 'Oskar', False, []]\n",
    "\n",
    "b = filter(None ,creature_names)\n",
    "\n",
    "list(b)"
   ]
  },
  {
   "cell_type": "markdown",
   "metadata": {},
   "source": [
    "## **Решение**"
   ]
  },
  {
   "cell_type": "code",
   "execution_count": 6,
   "metadata": {},
   "outputs": [],
   "source": [
    "class multifilter:\n",
    "\n",
    "    pos = []\n",
    "    neg = []\n",
    "\n",
    "    def judge_half(pos, neg): # допускает элемент, если его допускает хотя бы половина фукнций (pos >= neg)\n",
    "        if len(pos) >= len(neg):\n",
    "            return True\n",
    "        else:\n",
    "            return False      \n",
    "\n",
    "    def judge_any(pos, neg): # допускает элемент, если его допускает хотя бы одна функция (pos >= 1)\n",
    "        if len(pos) >= 1:\n",
    "            return True\n",
    "        else:\n",
    "            return False                         \n",
    "\n",
    "    def judge_all(pos, neg): # допускает элемент, если его допускают все функции (neg == 0)\n",
    "        if len(neg) == 0:\n",
    "            return True\n",
    "        else:\n",
    "            return False     \n",
    "\n",
    "    def __init__(self, iterable, *funcs, judge=judge_any):\n",
    "        self.iterable = iterable    # iterable - исходная последовательность\n",
    "        self.funcs = funcs  # funcs - допускающие функции\n",
    "        self.judge = judge  # judge - решающая функция\n",
    "    \n",
    "    def execution_funcs(self,iterable,funcs,judge=judge_any) :\n",
    "        for i in iterable :\n",
    "            self.pos.clear()\n",
    "            self.neg.clear()\n",
    "            for func in funcs:\n",
    "                if func(i) == True:\n",
    "                    self.pos.append(True)\n",
    "                elif func(i) == False:\n",
    "                    self.neg.append(False) \n",
    "            if judge(self.pos,self.neg) == True:\n",
    "                yield i\n",
    "\n",
    "    def __iter__(self): # возвращает итератор по результирующей последовательности\n",
    "        i = self.execution_funcs(self.iterable,self.funcs,self.judge)\n",
    "        return i"
   ]
  },
  {
   "cell_type": "markdown",
   "metadata": {},
   "source": [
    "### **Тест:**"
   ]
  },
  {
   "cell_type": "code",
   "execution_count": 7,
   "metadata": {},
   "outputs": [
    {
     "name": "stdout",
     "output_type": "stream",
     "text": [
      "[0, 2, 3, 4, 5, 6, 8, 9, 10, 12, 14, 15, 16, 18, 20, 21, 22, 24, 25, 26, 27, 28, 30]\n",
      "[0, 6, 10, 12, 15, 18, 20, 24, 30]\n",
      "[0, 30]\n"
     ]
    }
   ],
   "source": [
    "def mul2(x):\n",
    "    return x % 2 == 0\n",
    "\n",
    "def mul3(x):\n",
    "    return x % 3 == 0\n",
    "\n",
    "def mul5(x):\n",
    "    return x % 5 == 0\n",
    "\n",
    "\n",
    "a = [i for i in range(31)] # [0, 1, 2, ... , 30]\n",
    "\n",
    "print(list(multifilter(a, mul2, mul3, mul5))) \n",
    "# [0, 2, 3, 4, 5, 6, 8, 9, 10, 12, 14, 15, 16, 18, 20, 21, 22, 24, 25, 26, 27, 28, 30]\n",
    "\n",
    "print(list(multifilter(a, mul2, mul3, mul5, judge=multifilter.judge_half))) \n",
    "# [0, 6, 10, 12, 15, 18, 20, 24, 30]\n",
    "\n",
    "print(list(multifilter(a, mul2, mul3, mul5, judge=multifilter.judge_all))) \n",
    "# [0, 30]"
   ]
  }
 ],
 "metadata": {
  "interpreter": {
   "hash": "26de051ba29f2982a8de78e945f0abaf191376122a1563185a90213a26c5da77"
  },
  "kernelspec": {
   "display_name": "Python 3.10.4 64-bit",
   "language": "python",
   "name": "python3"
  },
  "language_info": {
   "name": "python",
   "version": "3.10.4"
  },
  "orig_nbformat": 4
 },
 "nbformat": 4,
 "nbformat_minor": 2
}
