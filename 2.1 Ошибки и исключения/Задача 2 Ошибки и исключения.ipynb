{
 "cells": [
  {
   "cell_type": "markdown",
   "metadata": {},
   "source": [
    "## **Задача 2**"
   ]
  },
  {
   "cell_type": "markdown",
   "metadata": {},
   "source": [
    "Вам дано описание наследования классов исключений в следующем формате.\n",
    "\n",
    "**<имя исключения 1> : <имя исключения 2> <имя исключения 3> ... <имя исключения k>**\n",
    "Это означает, что **исключение 1** наследуется от **исключения 2**, **исключения 3**, и т. д.\n",
    "\n",
    "Или эквивалентно записи:"
   ]
  },
  {
   "cell_type": "code",
   "execution_count": null,
   "metadata": {},
   "outputs": [],
   "source": [
    "class Error1(Error2, Error3 ... ErrorK):\n",
    "    pass"
   ]
  },
  {
   "cell_type": "markdown",
   "metadata": {},
   "source": [
    "Антон написал код, который выглядит следующим образом."
   ]
  },
  {
   "cell_type": "code",
   "execution_count": null,
   "metadata": {},
   "outputs": [],
   "source": [
    "try:\n",
    "   foo()\n",
    "except <имя 1>:\n",
    "   print(\"<имя 1>\")\n",
    "except <имя 2>:\n",
    "   print(\"<имя 2>\")\n",
    "..."
   ]
  },
  {
   "cell_type": "markdown",
   "metadata": {},
   "source": [
    "Костя посмотрел на этот код и указал Антону на то, что некоторые исключения можно не ловить, так как ранее в коде будет пойман их предок. Но Антон не помнит какие исключения наследуются от каких. Помогите ему выйти из неловкого положения и напишите программу, которая будет определять обработку каких исключений можно удалить из кода.\n",
    "\n",
    "\n",
    "**Важное примечание:**\n",
    "\n",
    "В отличие от предыдущей задачи, типы исключений не созданы.\n",
    "Создавать классы исключений также не требуется\n",
    "Мы просим вас промоделировать этот процесс, и понять какие из исключений можно и не ловить, потому что мы уже ранее где-то поймали их предка."
   ]
  },
  {
   "cell_type": "markdown",
   "metadata": {},
   "source": [
    "### Формат входных данных\n",
    "\n",
    "\n",
    "В первой строке входных данных содержится целое число n - число классов исключений.\n",
    "\n",
    "В следующих n строках содержится описание наследования классов. В i-й строке указано от каких классов наследуется i-й класс. Обратите внимание, что класс может ни от кого не наследоваться. Гарантируется, что класс не наследуется сам от себя (прямо или косвенно), что класс не наследуется явно от одного класса более одного раза.\n",
    "\n",
    "В следующей строке содержится число m - количество обрабатываемых исключений.\n",
    "Следующие m строк содержат имена исключений в том порядке, в каком они были написаны у Антона в коде.\n",
    "Гарантируется, что никакое исключение не обрабатывается дважды.\n",
    "\n",
    "### Формат выходных данных\n",
    "Выведите в отдельной строке имя каждого исключения, обработку которого можно удалить из кода, не изменив при этом поведение программы. Имена следует выводить в том же порядке, в котором они идут во входных данных."
   ]
  },
  {
   "cell_type": "markdown",
   "metadata": {},
   "source": [
    "### Пример теста 1\n",
    "\n",
    "\n",
    "Рассмотрим код\n",
    "\n"
   ]
  },
  {
   "cell_type": "code",
   "execution_count": null,
   "metadata": {},
   "outputs": [],
   "source": [
    "try:\n",
    "   foo()\n",
    "except ZeroDivision :\n",
    "   print(\"ZeroDivision\")\n",
    "except OSError:\n",
    "   print(\"OSError\")\n",
    "except ArithmeticError:\n",
    "   print(\"ArithmeticError\")\n",
    "except FileNotFoundError:\n",
    "   print(\"FileNotFoundError\")\n",
    "\n",
    "\n",
    "..."
   ]
  },
  {
   "cell_type": "markdown",
   "metadata": {},
   "source": [
    "По условию этого теста, Костя посмотрел на этот код, и сказал Антону, что исключение FileNotFoundError можно не ловить, ведь мы уже ловим OSError -- предок FileNotFoundError"
   ]
  },
  {
   "cell_type": "markdown",
   "metadata": {},
   "source": [
    "**Sample Input:**\n",
    ">4  \n",
    ">ArithmeticError  \n",
    ">ZeroDivisionError : ArithmeticError  \n",
    ">OSError  \n",
    ">FileNotFoundError : OSError  \n",
    ">4  \n",
    ">ZeroDivisionError  \n",
    ">OSError  \n",
    ">ArithmeticError  \n",
    ">FileNotFoundError  \n",
    "\n",
    "**Sample Output:**  \n",
    ">FileNotFoundError "
   ]
  },
  {
   "cell_type": "markdown",
   "metadata": {},
   "source": [
    "## **Решение**"
   ]
  },
  {
   "cell_type": "code",
   "execution_count": 9,
   "metadata": {},
   "outputs": [
    {
     "name": "stdout",
     "output_type": "stream",
     "text": [
      "Exception\n"
     ]
    }
   ],
   "source": [
    "data_dct = {}\n",
    "for i in range(int(input())):\n",
    "    user_input = input().split(' : ')\n",
    "    name = user_input[0]\n",
    "    if len(user_input)>1:\n",
    "        data_dct.setdefault(name, user_input[1].split(' '))\n",
    "        continue\n",
    "    data_dct.setdefault(name, [])\n",
    "\n",
    "ban = set()\n",
    "result = []\n",
    "\n",
    "def ban_add(quest, dct):\n",
    "    global ban\n",
    "    ban.add(quest)\n",
    "    for clidren, parents in dct.items():\n",
    "        if parents == []:\n",
    "            continue\n",
    "        if quest in parents:\n",
    "            ban_add(clidren,dct)\n",
    "\n",
    "for i in range(int(input())):\n",
    "    quest = input()\n",
    "    if quest in ban:\n",
    "        result.append(quest)\n",
    "    ban_add(quest,data_dct)\n",
    "\n",
    "for i in result:\n",
    "    print(i)\n"
   ]
  }
 ],
 "metadata": {
  "interpreter": {
   "hash": "26de051ba29f2982a8de78e945f0abaf191376122a1563185a90213a26c5da77"
  },
  "kernelspec": {
   "display_name": "Python 3.10.4 64-bit",
   "language": "python",
   "name": "python3"
  },
  "language_info": {
   "codemirror_mode": {
    "name": "ipython",
    "version": 3
   },
   "file_extension": ".py",
   "mimetype": "text/x-python",
   "name": "python",
   "nbconvert_exporter": "python",
   "pygments_lexer": "ipython3",
   "version": "3.10.4"
  },
  "orig_nbformat": 4
 },
 "nbformat": 4,
 "nbformat_minor": 2
}
