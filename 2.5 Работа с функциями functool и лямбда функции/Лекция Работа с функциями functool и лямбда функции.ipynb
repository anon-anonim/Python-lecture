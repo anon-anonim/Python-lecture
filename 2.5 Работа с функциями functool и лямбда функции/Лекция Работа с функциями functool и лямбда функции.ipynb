{
 "cells": [
  {
   "cell_type": "markdown",
   "metadata": {},
   "source": [
    "## **Работа с функциями: functool и лямбда функции**"
   ]
  },
  {
   "cell_type": "markdown",
   "metadata": {},
   "source": [
    "### **map():**"
   ]
  },
  {
   "cell_type": "code",
   "execution_count": null,
   "metadata": {},
   "outputs": [],
   "source": [
    "'''\n",
    "\n",
    "map(func, *iterables) --> map object\n",
    "\n",
    "Сделайте итератор, который вычисляет функцию, используя аргументы из\n",
    "Каждый из итераблений.Останавливается, когда самый короткий итерабильный исчерпан.\n",
    "\n",
    "'''"
   ]
  },
  {
   "cell_type": "code",
   "execution_count": 3,
   "metadata": {},
   "outputs": [
    {
     "name": "stdout",
     "output_type": "stream",
     "text": [
      "34646\n"
     ]
    }
   ],
   "source": [
    "n,k = map(int, input().split())\n",
    "print(n+k)"
   ]
  },
  {
   "cell_type": "code",
   "execution_count": 7,
   "metadata": {},
   "outputs": [
    {
     "name": "stdout",
     "output_type": "stream",
     "text": [
      "x=['4234', '43']\n",
      "4277\n"
     ]
    }
   ],
   "source": [
    "x = input().split()\n",
    "print(f\"{x=}\") \n",
    "n, k = map(int,x) #map - func[a,d,b,..h] -func(a),func(d),func(b)...\n",
    "print(n+k)"
   ]
  },
  {
   "cell_type": "code",
   "execution_count": 8,
   "metadata": {},
   "outputs": [
    {
     "name": "stdout",
     "output_type": "stream",
     "text": [
      "x=['324', '4324']\n",
      "<map object at 0x00000192DA374FA0>\n",
      "4648\n"
     ]
    }
   ],
   "source": [
    "x = input().split()\n",
    "print(f\"{x=}\") \n",
    "map_obj= map(int,x)  #map - func[a,d,b,..h] -func(a),func(d),func(b)...\n",
    "print(map_obj)\n",
    "n = next(map_obj)\n",
    "k = next(map_obj)\n",
    "print(n+k)"
   ]
  },
  {
   "cell_type": "code",
   "execution_count": 10,
   "metadata": {},
   "outputs": [
    {
     "name": "stdout",
     "output_type": "stream",
     "text": [
      "x=['213', '323', '3']\n",
      "<map object at 0x00000192D91F4460>\n",
      "536\n"
     ]
    }
   ],
   "source": [
    "x = ('213 323 3').split()\n",
    "print(f\"{x=}\") \n",
    "map_obj= map(int,x)  #map - func[a,d,b,..h] -func(a),func(d),func(b)...\n",
    "print(map_obj)\n",
    "n = next(map_obj)\n",
    "k = next(map_obj)\n",
    "print(n+k)"
   ]
  },
  {
   "cell_type": "markdown",
   "metadata": {},
   "source": [
    "![](../Paste_image/2022-05-30-13-25-56.png)"
   ]
  },
  {
   "cell_type": "code",
   "execution_count": 12,
   "metadata": {},
   "outputs": [
    {
     "name": "stdout",
     "output_type": "stream",
     "text": [
      "x=['213', '323']\n",
      "536\n"
     ]
    }
   ],
   "source": [
    "x = ('213 323').split()\n",
    "print(f\"{x=}\") \n",
    "n,k = (int(i) for i in x)\n",
    "print(n+k)"
   ]
  },
  {
   "cell_type": "markdown",
   "metadata": {},
   "source": [
    "### **filter()**"
   ]
  },
  {
   "cell_type": "code",
   "execution_count": 40,
   "metadata": {},
   "outputs": [
    {
     "data": {
      "text/plain": [
       "filter"
      ]
     },
     "execution_count": 40,
     "metadata": {},
     "output_type": "execute_result"
    }
   ],
   "source": [
    "creature_names = ['Sammy', 'Ashley', 'Jo', 'Olly', 'Jackie', 'Charlie', 'gari', 'inna', 'Oskar']\n",
    "\n",
    "def test_func(x):    \n",
    "    return x.isalpha()\n",
    "\n",
    "b = filter(lambda x: x[0].isupper() and x[0] in 'SAJ' ,creature_names)\n",
    "\n",
    "type(b)"
   ]
  },
  {
   "cell_type": "code",
   "execution_count": 14,
   "metadata": {},
   "outputs": [
    {
     "name": "stdout",
     "output_type": "stream",
     "text": [
      "Sammy\n",
      "Ashley\n",
      "Jo\n",
      "Jackie\n"
     ]
    }
   ],
   "source": [
    "for i in b:\n",
    "    print(i)"
   ]
  },
  {
   "cell_type": "code",
   "execution_count": 15,
   "metadata": {},
   "outputs": [
    {
     "data": {
      "text/plain": [
       "['Sammy', 'Ashley', 'Jo', 'Jackie']"
      ]
     },
     "execution_count": 15,
     "metadata": {},
     "output_type": "execute_result"
    }
   ],
   "source": [
    "creature_names = ['Sammy', 'Ashley', 'Jo', 'Olly', 'Jackie', 'Charlie', 'gari', 'inna', 'Oskar']\n",
    "\n",
    "def test_func(x):    \n",
    "    return x[0].isupper() and x[0] in 'SAJ'\n",
    "\n",
    "b = filter(test_func ,creature_names)\n",
    "\n",
    "\n",
    "list(b)"
   ]
  },
  {
   "cell_type": "code",
   "execution_count": 30,
   "metadata": {},
   "outputs": [
    {
     "name": "stdout",
     "output_type": "stream",
     "text": [
      "xs=<generator object <genexpr> at 0x00000192D913FE60>\n"
     ]
    }
   ],
   "source": [
    "x = ('213 3434 234 23432 121 33 435 1 323').split()\n",
    "xs = (int(i) for i in x)\n",
    "print(f\"{xs=}\")"
   ]
  },
  {
   "cell_type": "code",
   "execution_count": 31,
   "metadata": {},
   "outputs": [
    {
     "name": "stdout",
     "output_type": "stream",
     "text": [
      "evens=<filter object at 0x00000192DA38C730>\n"
     ]
    }
   ],
   "source": [
    "def even(x):\n",
    "    return x % 2 == 0\n",
    "\n",
    "evens = filter(even,xs)\n",
    "print(f\"{evens=}\")"
   ]
  },
  {
   "cell_type": "code",
   "execution_count": 32,
   "metadata": {},
   "outputs": [
    {
     "name": "stdout",
     "output_type": "stream",
     "text": [
      "3434\n",
      "234\n",
      "23432\n"
     ]
    }
   ],
   "source": [
    "for i in evens:\n",
    "    print(i)"
   ]
  },
  {
   "cell_type": "code",
   "execution_count": 33,
   "metadata": {},
   "outputs": [
    {
     "name": "stdout",
     "output_type": "stream",
     "text": [
      "[]\n"
     ]
    }
   ],
   "source": [
    "lst = list(evens)\n",
    "print(lst)"
   ]
  },
  {
   "cell_type": "code",
   "execution_count": 34,
   "metadata": {},
   "outputs": [
    {
     "name": "stdout",
     "output_type": "stream",
     "text": [
      "[]\n"
     ]
    }
   ],
   "source": [
    "evens_lst = list(filter(even,xs))\n",
    "print(evens_lst)\n",
    "\n",
    "# [] так как генератор закончился на предыдущей последовательности"
   ]
  },
  {
   "cell_type": "code",
   "execution_count": 38,
   "metadata": {},
   "outputs": [
    {
     "name": "stdout",
     "output_type": "stream",
     "text": [
      "evens_lst=[3434, 234, 23432]\n"
     ]
    }
   ],
   "source": [
    "xs_2 = (int(i) for i in x) # новый генератор\n",
    "evens_lst = list(filter(even,xs_2))\n",
    "print(f\"{evens_lst=}\")"
   ]
  },
  {
   "cell_type": "markdown",
   "metadata": {},
   "source": [
    "### **lambda()**"
   ]
  },
  {
   "cell_type": "markdown",
   "metadata": {},
   "source": [
    "*lambda()* функция существует для более короткого и лаконичного написания других функций\n",
    "\n",
    "*lambda x,y,z\"-аргументы функции\": x % 2 * Z -\"тело функции\"* --функция должна что возвращать\n"
   ]
  },
  {
   "cell_type": "code",
   "execution_count": null,
   "metadata": {},
   "outputs": [],
   "source": [
    "func = lambda x: x % 2 == 0"
   ]
  },
  {
   "cell_type": "code",
   "execution_count": 39,
   "metadata": {},
   "outputs": [
    {
     "name": "stdout",
     "output_type": "stream",
     "text": [
      "evens_lst=[3434, 234, 23432]\n"
     ]
    }
   ],
   "source": [
    "xs_3 = (int(i) for i in x) # новый генератор\n",
    "evens_lst = list(filter(lambda x: x % 2 == 0,xs_3))\n",
    "print(f\"{evens_lst=}\")"
   ]
  },
  {
   "cell_type": "code",
   "execution_count": 47,
   "metadata": {},
   "outputs": [],
   "source": [
    "names = [\n",
    "    ('Sammy', 'Ashley', 'Jo'),\n",
    "    ('Olly', 'Jackie'),\n",
    "    ('Charlie', 'Oskar')\n",
    "    ]"
   ]
  },
  {
   "cell_type": "code",
   "execution_count": 48,
   "metadata": {},
   "outputs": [],
   "source": [
    "def length(name):\n",
    "    return len(''.join(name))"
   ]
  },
  {
   "cell_type": "code",
   "execution_count": 49,
   "metadata": {},
   "outputs": [
    {
     "name": "stdout",
     "output_type": "stream",
     "text": [
      "[13, 10, 12]\n"
     ]
    }
   ],
   "source": [
    "name_length = [length(name) for name in names]\n",
    "print(name_length)"
   ]
  },
  {
   "cell_type": "code",
   "execution_count": 50,
   "metadata": {},
   "outputs": [
    {
     "name": "stdout",
     "output_type": "stream",
     "text": [
      "[('Olly', 'Jackie'), ('Charlie', 'Oskar'), ('Sammy', 'Ashley', 'Jo')]\n"
     ]
    }
   ],
   "source": [
    "names.sort(key = length)\n",
    "print(names)"
   ]
  },
  {
   "cell_type": "code",
   "execution_count": 51,
   "metadata": {},
   "outputs": [
    {
     "name": "stdout",
     "output_type": "stream",
     "text": [
      "[('Olly', 'Jackie'), ('Charlie', 'Oskar'), ('Sammy', 'Ashley', 'Jo')]\n"
     ]
    }
   ],
   "source": [
    "names.sort(key = lambda name:len(''.join(name)))\n",
    "print(names)"
   ]
  },
  {
   "cell_type": "markdown",
   "metadata": {},
   "source": [
    "### **Библиотека *operator***"
   ]
  },
  {
   "cell_type": "code",
   "execution_count": 2,
   "metadata": {},
   "outputs": [
    {
     "name": "stdout",
     "output_type": "stream",
     "text": [
      "9\n",
      "20\n",
      "True\n"
     ]
    }
   ],
   "source": [
    "import operator as op\n",
    "\n",
    "print(op.add(4,5))\n",
    "print(op.mul(10,2))\n",
    "print(op.contains([12,3,4],4))"
   ]
  },
  {
   "cell_type": "code",
   "execution_count": 7,
   "metadata": {},
   "outputs": [
    {
     "name": "stdout",
     "output_type": "stream",
     "text": [
      "x\n"
     ]
    }
   ],
   "source": [
    "x = [1,2,'x']\n",
    "f = op.itemgetter(2) #f(x) == x[1]\n",
    "print(f(x))"
   ]
  },
  {
   "cell_type": "code",
   "execution_count": null,
   "metadata": {},
   "outputs": [],
   "source": [
    "f_2 =op.attrgetter(\"sort\") #f(x) == x.sort"
   ]
  },
  {
   "cell_type": "markdown",
   "metadata": {},
   "source": [
    "### **Библиотека *functool***"
   ]
  },
  {
   "cell_type": "code",
   "execution_count": 9,
   "metadata": {},
   "outputs": [
    {
     "data": {
      "text/plain": [
       "13"
      ]
     },
     "execution_count": 9,
     "metadata": {},
     "output_type": "execute_result"
    }
   ],
   "source": [
    "from functools import partial\n",
    "\n",
    "x = int('1101', base=2)\n",
    "x"
   ]
  },
  {
   "cell_type": "code",
   "execution_count": 10,
   "metadata": {},
   "outputs": [
    {
     "data": {
      "text/plain": [
       "13"
      ]
     },
     "execution_count": 10,
     "metadata": {},
     "output_type": "execute_result"
    }
   ],
   "source": [
    "int_2 = partial(int,base=2)\n",
    "y = int_2(\"1101\")\n",
    "y"
   ]
  },
  {
   "cell_type": "markdown",
   "metadata": {},
   "source": [
    "![](../Paste_image/2022-05-30-15-13-59.png)"
   ]
  }
 ],
 "metadata": {
  "interpreter": {
   "hash": "26de051ba29f2982a8de78e945f0abaf191376122a1563185a90213a26c5da77"
  },
  "kernelspec": {
   "display_name": "Python 3.10.4 64-bit",
   "language": "python",
   "name": "python3"
  },
  "language_info": {
   "codemirror_mode": {
    "name": "ipython",
    "version": 3
   },
   "file_extension": ".py",
   "mimetype": "text/x-python",
   "name": "python",
   "nbconvert_exporter": "python",
   "pygments_lexer": "ipython3",
   "version": "3.10.4"
  },
  "orig_nbformat": 4
 },
 "nbformat": 4,
 "nbformat_minor": 2
}
