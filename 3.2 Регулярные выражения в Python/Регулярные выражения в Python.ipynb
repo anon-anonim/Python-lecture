{
 "cells": [
  {
   "cell_type": "markdown",
   "metadata": {},
   "source": [
    "## **Регулярные выражения в Python**\n"
   ]
  },
  {
   "cell_type": "code",
   "execution_count": 5,
   "metadata": {},
   "outputs": [
    {
     "name": "stdout",
     "output_type": "stream",
     "text": [
      "hello \n",
      " world\n"
     ]
    }
   ],
   "source": [
    "x = \"hello \\n world\" \n",
    "print(x)"
   ]
  },
  {
   "cell_type": "code",
   "execution_count": 6,
   "metadata": {},
   "outputs": [
    {
     "name": "stdout",
     "output_type": "stream",
     "text": [
      "hello \\n world\n"
     ]
    }
   ],
   "source": [
    "y = r\"hello \\n world\" #сырая строка - raw\n",
    "print(y)"
   ]
  },
  {
   "cell_type": "code",
   "execution_count": 7,
   "metadata": {},
   "outputs": [
    {
     "name": "stdout",
     "output_type": "stream",
     "text": [
      "<function match at 0x000001E14A34CAF0>\n",
      "<function search at 0x000001E14A385870>\n",
      "<function findall at 0x000001E14A385AB0>\n",
      "<function sub at 0x000001E14A385900>\n"
     ]
    }
   ],
   "source": [
    "import re #модуль для работы с регулярными выражениями\n",
    "\n",
    "print(re.match)     # сравнивает строку и шаблон\n",
    "print(re.search)    # находит первую подстроку под шаблон\n",
    "print(re.findall)   # находит все подстроки подходящие под шаблон\n",
    "print(re.sub)   # заменяет все вхождения подходящие под шаблон чем нибудь другим"
   ]
  },
  {
   "cell_type": "code",
   "execution_count": 8,
   "metadata": {},
   "outputs": [
    {
     "name": "stdout",
     "output_type": "stream",
     "text": [
      "<re.Match object; span=(0, 3), match='abc'>\n"
     ]
    }
   ],
   "source": [
    "pattern = r\"abc\"\n",
    "string = \"abc\"\n",
    "match_objc = re.match(pattern,string)\n",
    "print(match_objc)"
   ]
  },
  {
   "cell_type": "code",
   "execution_count": 9,
   "metadata": {},
   "outputs": [
    {
     "name": "stdout",
     "output_type": "stream",
     "text": [
      "<re.Match object; span=(0, 3), match='abc'>\n"
     ]
    }
   ],
   "source": [
    "pattern = r\"abc\"\n",
    "string = \"abcdhgdldskfkd\"\n",
    "match_objc = re.match(pattern,string)\n",
    "print(match_objc)"
   ]
  },
  {
   "cell_type": "code",
   "execution_count": 10,
   "metadata": {},
   "outputs": [
    {
     "name": "stdout",
     "output_type": "stream",
     "text": [
      "None\n"
     ]
    }
   ],
   "source": [
    "pattern = r\"axc\"\n",
    "string = \"abcdhgdldskfkd\"\n",
    "match_objc = re.match(pattern,string)\n",
    "print(match_objc)"
   ]
  },
  {
   "cell_type": "code",
   "execution_count": 13,
   "metadata": {},
   "outputs": [
    {
     "name": "stdout",
     "output_type": "stream",
     "text": [
      "<re.Match object; span=(6, 9), match='abc'>\n"
     ]
    }
   ],
   "source": [
    "pattern = r\"abc\"\n",
    "string = \"sadsdaabcdhgdldskfkd\"\n",
    "search_objc = re.search(pattern,string)\n",
    "print(search_objc)"
   ]
  },
  {
   "cell_type": "code",
   "execution_count": 16,
   "metadata": {},
   "outputs": [
    {
     "name": "stdout",
     "output_type": "stream",
     "text": [
      "<re.Match object; span=(0, 3), match='acc'>\n"
     ]
    }
   ],
   "source": [
    "pattern = r\"a[abc]c\"\n",
    "string = \"acc\"\n",
    "match_objc = re.match(pattern,string)\n",
    "print(match_objc)"
   ]
  },
  {
   "cell_type": "code",
   "execution_count": null,
   "metadata": {},
   "outputs": [],
   "source": [
    "pattern = r\"a[abc]c\"\n",
    "string = \"acc\"\n",
    "match_objc = re.match(pattern,string)\n",
    "print(match_objc)"
   ]
  },
  {
   "cell_type": "code",
   "execution_count": 18,
   "metadata": {},
   "outputs": [
    {
     "name": "stdout",
     "output_type": "stream",
     "text": [
      "['abc', 'acc', 'aac']\n"
     ]
    }
   ],
   "source": [
    "pattern = r\"a[abc]c\"\n",
    "string = \"abc, acc, aac\"\n",
    "all_inclusions = re.findall(pattern,string)\n",
    "print(all_inclusions)\n",
    "\n"
   ]
  },
  {
   "cell_type": "code",
   "execution_count": 19,
   "metadata": {},
   "outputs": [
    {
     "name": "stdout",
     "output_type": "stream",
     "text": [
      "abc, abc, abc\n"
     ]
    }
   ],
   "source": [
    "fixed_type = re.sub(pattern, \"abc\", string)\n",
    "print(fixed_type)"
   ]
  },
  {
   "cell_type": "markdown",
   "metadata": {},
   "source": [
    "### **Метасимволы**"
   ]
  },
  {
   "cell_type": "code",
   "execution_count": null,
   "metadata": {},
   "outputs": [],
   "source": [
    "# [] -- указывает множество подходящих символов \n",
    "# . ^ $ * + ? {} [] | \\  -- метасимволы\n",
    "# \\d ~ [0-9] -цифры\n",
    "# \\D ~ [^0-9]\n",
    "# \\s ~ [ \\t\\n\\r\\f\\v] -- пробельные символы\n",
    "# \\S ~ [^ \\t\\n\\r\\f\\v]\n",
    "# \\w ~ [a-zA-Z0-9_]  -- буквы + цифры + _\n",
    "# \\W ~ [^a-zA-Z0-9_] -- буквы + цифры + _\n"
   ]
  },
  {
   "cell_type": "code",
   "execution_count": 20,
   "metadata": {},
   "outputs": [
    {
     "name": "stdout",
     "output_type": "stream",
     "text": [
      "<re.Match object; span=(13, 20), match='english'>\n"
     ]
    }
   ],
   "source": [
    "pattern = r\"english?\"    # \"?\" - метасимвол\n",
    "string = \"Do you speak english?\"    # \"?\" - метасимвол\n",
    "match = re.search(pattern, string)\n",
    "print(match)"
   ]
  },
  {
   "cell_type": "code",
   "execution_count": 21,
   "metadata": {},
   "outputs": [
    {
     "name": "stdout",
     "output_type": "stream",
     "text": [
      "<re.Match object; span=(13, 21), match='english?'>\n"
     ]
    }
   ],
   "source": [
    "pattern = r\"english\\?\"    # \"?\" экранируем обратным слэшем \\\n",
    "string = \"Do you speak english?\"    # \"?\" - метасимвол\n",
    "match = re.search(pattern, string)\n",
    "print(match)"
   ]
  },
  {
   "cell_type": "code",
   "execution_count": 23,
   "metadata": {},
   "outputs": [
    {
     "name": "stdout",
     "output_type": "stream",
     "text": [
      "['abc', 'acc', 'aac']\n"
     ]
    }
   ],
   "source": [
    "string = \"abc, acc, aac\"\n",
    "all_inclusions = re.findall(pattern, string)\n",
    "print(all_inclusions)"
   ]
  },
  {
   "cell_type": "code",
   "execution_count": 30,
   "metadata": {},
   "outputs": [
    {
     "name": "stdout",
     "output_type": "stream",
     "text": [
      "['a2c', 'a=c', 'a+c']\n"
     ]
    }
   ],
   "source": [
    "pattern = r\"a[^a-zA-Z]c\"    #исключает сиволы\n",
    "string = \"abc, acc, aac, a2c, a=c, a+c\"\n",
    "all_inclusions = re.findall(pattern,string)\n",
    "print(all_inclusions)"
   ]
  },
  {
   "cell_type": "code",
   "execution_count": 32,
   "metadata": {},
   "outputs": [
    {
     "name": "stdout",
     "output_type": "stream",
     "text": [
      "['abc', 'acc', 'aac', 'a2c', 'a+c', 'a_c']\n"
     ]
    }
   ],
   "source": [
    "pattern = r\"a[\\w+]c\"    #исключает сиволы\n",
    "string = \"abc, acc, aac, a2c, a=c, a+c, a_c\"\n",
    "all_inclusions = re.findall(pattern,string)\n",
    "print(all_inclusions)"
   ]
  },
  {
   "cell_type": "markdown",
   "metadata": {},
   "source": [
    "Любой символ кроме переноса строки будет подходить под *\".\"*"
   ]
  },
  {
   "cell_type": "code",
   "execution_count": 34,
   "metadata": {},
   "outputs": [
    {
     "name": "stdout",
     "output_type": "stream",
     "text": [
      "['abc', 'acc', 'aac', 'a2c', 'a=c', 'a+c', 'a_c']\n"
     ]
    }
   ],
   "source": [
    "pattern = r\"a.c\"    #исключает сиволы\n",
    "string = \"abc, acc, aac, a2c, a=c, a+c, a_c, a\\nc\"\n",
    "all_inclusions = re.findall(pattern,string)\n",
    "print(all_inclusions)"
   ]
  },
  {
   "cell_type": "markdown",
   "metadata": {},
   "source": [
    "### **Повторы символов**"
   ]
  },
  {
   "cell_type": "code",
   "execution_count": null,
   "metadata": {},
   "outputs": [],
   "source": [
    "# \"*\" 0-...\n",
    "# \"+\" 1-...\n",
    "# \"?\" 0-1\n",
    "# \"{n}\" n\n",
    "# \"{n-n1}\" n-n1"
   ]
  },
  {
   "cell_type": "code",
   "execution_count": 35,
   "metadata": {},
   "outputs": [
    {
     "name": "stdout",
     "output_type": "stream",
     "text": [
      "['aa', 'aba', 'abba']\n"
     ]
    }
   ],
   "source": [
    "pattern = r\"ab*a\"\n",
    "string = \"aa, aba, abba\"\n",
    "all_inclusions = re.findall(pattern,string)\n",
    "print(all_inclusions)"
   ]
  },
  {
   "cell_type": "code",
   "execution_count": 36,
   "metadata": {},
   "outputs": [
    {
     "name": "stdout",
     "output_type": "stream",
     "text": [
      "['aba', 'abba']\n"
     ]
    }
   ],
   "source": [
    "pattern = r\"ab+a\"\n",
    "string = \"aa, aba, abba\"\n",
    "all_inclusions = re.findall(pattern,string)\n",
    "print(all_inclusions)"
   ]
  },
  {
   "cell_type": "code",
   "execution_count": 37,
   "metadata": {},
   "outputs": [
    {
     "name": "stdout",
     "output_type": "stream",
     "text": [
      "['aa', 'aba']\n"
     ]
    }
   ],
   "source": [
    "pattern = r\"ab?a\"\n",
    "string = \"aa, aba, abba\"\n",
    "all_inclusions = re.findall(pattern,string)\n",
    "print(all_inclusions)"
   ]
  },
  {
   "cell_type": "code",
   "execution_count": 39,
   "metadata": {},
   "outputs": [
    {
     "name": "stdout",
     "output_type": "stream",
     "text": [
      "['abbba']\n"
     ]
    }
   ],
   "source": [
    "pattern = r\"ab{3}a\"\n",
    "string = \"aa, aba, abba, abbba, abbbbbbba\"\n",
    "all_inclusions = re.findall(pattern,string)\n",
    "print(all_inclusions)"
   ]
  },
  {
   "cell_type": "code",
   "execution_count": 40,
   "metadata": {},
   "outputs": [
    {
     "name": "stdout",
     "output_type": "stream",
     "text": [
      "['abbba', 'abbbba', 'abbbbbba']\n"
     ]
    }
   ],
   "source": [
    "pattern = r\"ab{3,6}a\"\n",
    "string = \"aa, aba, abba, abbba, abbbba, abbbbbba\"\n",
    "all_inclusions = re.findall(pattern,string)\n",
    "print(all_inclusions)"
   ]
  },
  {
   "cell_type": "code",
   "execution_count": 41,
   "metadata": {},
   "outputs": [
    {
     "name": "stdout",
     "output_type": "stream",
     "text": [
      "['abba', 'abbba', 'abababababa']\n"
     ]
    }
   ],
   "source": [
    "pattern = r\"ab[ab]+a\"\n",
    "string = \"aa, aba, abba, abbba, abababababab, abab\"\n",
    "all_inclusions = re.findall(pattern,string)\n",
    "print(all_inclusions)"
   ]
  },
  {
   "cell_type": "code",
   "execution_count": 45,
   "metadata": {},
   "outputs": [
    {
     "name": "stdout",
     "output_type": "stream",
     "text": [
      "None\n",
      "['abba', 'abbba', 'ababa', 'ababa']\n"
     ]
    }
   ],
   "source": [
    "pattern = r\"ab[ab]+?a\"\n",
    "string = \"aa, aba, abba, abbba, abababababab, abab\"\n",
    "match = re.match(pattern, string)\n",
    "all_inclusions = re.findall(pattern,string)\n",
    "print(match)\n",
    "print(all_inclusions)"
   ]
  },
  {
   "cell_type": "markdown",
   "metadata": {},
   "source": [
    "### **Группировка**"
   ]
  },
  {
   "cell_type": "code",
   "execution_count": null,
   "metadata": {},
   "outputs": [],
   "source": [
    "# as|sd - \"|\" символ или"
   ]
  },
  {
   "cell_type": "code",
   "execution_count": 47,
   "metadata": {},
   "outputs": [
    {
     "name": "stdout",
     "output_type": "stream",
     "text": [
      "<re.Match object; span=(0, 8), match='testtest'>\n"
     ]
    }
   ],
   "source": [
    "pattern = r\"(test)*\"\n",
    "string = \"testtest\"\n",
    "match = re.match(pattern, string)\n",
    "print(match)"
   ]
  },
  {
   "cell_type": "code",
   "execution_count": 52,
   "metadata": {},
   "outputs": [
    {
     "name": "stdout",
     "output_type": "stream",
     "text": [
      "<re.Match object; span=(0, 8), match='testtext'>\n",
      "['text', '', '', 'text', '', '', 'test', '']\n"
     ]
    }
   ],
   "source": [
    "pattern = r\"(test|text)*\"\n",
    "string = \"testtext, text, test\"\n",
    "match = re.match(pattern, string)\n",
    "all_inclusions = re.findall(pattern,string)\n",
    "print(match)\n",
    "print(all_inclusions)"
   ]
  },
  {
   "cell_type": "code",
   "execution_count": 55,
   "metadata": {},
   "outputs": [
    {
     "name": "stdout",
     "output_type": "stream",
     "text": [
      "<re.Match object; span=(0, 8), match='testtext'>\n"
     ]
    }
   ],
   "source": [
    "pattern = r\"abc|(test|text)*\"\n",
    "string = \"testtext\"\n",
    "match = re.match(pattern, string)\n",
    "print(match)\n"
   ]
  },
  {
   "cell_type": "code",
   "execution_count": 56,
   "metadata": {},
   "outputs": [
    {
     "name": "stdout",
     "output_type": "stream",
     "text": [
      "<re.Match object; span=(0, 3), match='abc'>\n",
      "('abc', 'abc', None)\n"
     ]
    }
   ],
   "source": [
    "pattern = r\"((abc)|(test|text)*)\"\n",
    "string = \"abc\"\n",
    "match = re.match(pattern, string)\n",
    "print(match)\n",
    "print(match.groups())"
   ]
  },
  {
   "cell_type": "code",
   "execution_count": 62,
   "metadata": {},
   "outputs": [
    {
     "name": "stdout",
     "output_type": "stream",
     "text": [
      "<re.Match object; span=(0, 9), match='Hello abc'>\n",
      "Hello abc\n",
      "Hello abc\n",
      "abc\n"
     ]
    }
   ],
   "source": [
    "pattern = r\"Hello (abc|test)\"\n",
    "string = \"Hello abc\"\n",
    "match = re.match(pattern, string)\n",
    "print(match)\n",
    "print(match.group())\n",
    "print(match.group(0))\n",
    "print(match.group(1))"
   ]
  },
  {
   "cell_type": "code",
   "execution_count": 64,
   "metadata": {},
   "outputs": [
    {
     "name": "stdout",
     "output_type": "stream",
     "text": [
      "None\n"
     ]
    }
   ],
   "source": [
    "pattern = r\"(\\w+)-\\1\"\n",
    "string = \"test-test\"\n",
    "match = re.match(pattern,string)\n",
    "print(match)"
   ]
  },
  {
   "cell_type": "code",
   "execution_count": 65,
   "metadata": {},
   "outputs": [
    {
     "name": "stdout",
     "output_type": "stream",
     "text": [
      "None\n"
     ]
    }
   ],
   "source": [
    "pattern = r\"(\\w+)-\\1\"\n",
    "string = \"test-dgfs\"\n",
    "match = re.match(pattern,string)\n",
    "print(match)"
   ]
  },
  {
   "cell_type": "code",
   "execution_count": 66,
   "metadata": {},
   "outputs": [
    {
     "name": "stdout",
     "output_type": "stream",
     "text": [
      "test crow\n"
     ]
    }
   ],
   "source": [
    "pattern = r\"(\\w+)-\\1\"\n",
    "string = \"test-test crow-crow\"\n",
    "duplicates = re.sub(pattern, r\"\\1\", string)\n",
    "print(duplicates)"
   ]
  },
  {
   "cell_type": "code",
   "execution_count": 67,
   "metadata": {},
   "outputs": [
    {
     "name": "stdout",
     "output_type": "stream",
     "text": [
      "['test', 'crow']\n"
     ]
    }
   ],
   "source": [
    "pattern = r\"(\\w+)-\\1\"\n",
    "string = \"test-test crow-crow\"\n",
    "duplicates = re.findall(pattern, string)\n",
    "print(duplicates)"
   ]
  },
  {
   "cell_type": "code",
   "execution_count": 69,
   "metadata": {},
   "outputs": [
    {
     "name": "stdout",
     "output_type": "stream",
     "text": [
      "[('test-test', 'test'), ('crow-crow', 'crow')]\n"
     ]
    }
   ],
   "source": [
    "pattern = r\"((\\w+)-\\2)\"\n",
    "string = \"test-test crow-crow\"\n",
    "duplicates = re.findall(pattern, string)\n",
    "print(duplicates)"
   ]
  },
  {
   "cell_type": "code",
   "execution_count": 71,
   "metadata": {},
   "outputs": [
    {
     "data": {
      "text/plain": [
       "<re.Match object; span=(0, 4), match='TEXT'>"
      ]
     },
     "execution_count": 71,
     "metadata": {},
     "output_type": "execute_result"
    }
   ],
   "source": [
    "x = re.match(r\"text\", \"TEXT\", re.IGNORECASE)\n",
    "x"
   ]
  },
  {
   "cell_type": "code",
   "execution_count": 74,
   "metadata": {},
   "outputs": [
    {
     "name": "stdout",
     "output_type": "stream",
     "text": [
      "MAX_REPEAT 0 MAXREPEAT\n",
      "  SUBPATTERN 1 0 0\n",
      "    LITERAL 116\n",
      "    LITERAL 101\n",
      "LITERAL 120\n",
      "LITERAL 116\n",
      "\n",
      " 0. INFO 4 0b0 2 MAXREPEAT (to 5)\n",
      " 5: REPEAT 11 0 MAXREPEAT (to 17)\n",
      " 9.   MARK 0\n",
      "11.   LITERAL_UNI_IGNORE 0x74 ('t')\n",
      "13.   LITERAL_UNI_IGNORE 0x65 ('e')\n",
      "15.   MARK 1\n",
      "17: MAX_UNTIL\n",
      "18. LITERAL_UNI_IGNORE 0x78 ('x')\n",
      "20. LITERAL_UNI_IGNORE 0x74 ('t')\n",
      "22. SUCCESS\n",
      "<re.Match object; span=(0, 4), match='TEXT'>\n"
     ]
    }
   ],
   "source": [
    "x = re.match(r\"(te)*xt\", \"TEXT\", re.IGNORECASE | re.DEBUG)\n",
    "print(x)"
   ]
  },
  {
   "cell_type": "code",
   "execution_count": 75,
   "metadata": {},
   "outputs": [
    {
     "name": "stdout",
     "output_type": "stream",
     "text": [
      "MIN_REPEAT 0 MAXREPEAT\n",
      "  SUBPATTERN 1 0 0\n",
      "    LITERAL 116\n",
      "    LITERAL 101\n",
      "LITERAL 120\n",
      "LITERAL 116\n",
      "\n",
      " 0. INFO 4 0b0 2 MAXREPEAT (to 5)\n",
      " 5: REPEAT 11 0 MAXREPEAT (to 17)\n",
      " 9.   MARK 0\n",
      "11.   LITERAL_UNI_IGNORE 0x74 ('t')\n",
      "13.   LITERAL_UNI_IGNORE 0x65 ('e')\n",
      "15.   MARK 1\n",
      "17: MIN_UNTIL\n",
      "18. LITERAL_UNI_IGNORE 0x78 ('x')\n",
      "20. LITERAL_UNI_IGNORE 0x74 ('t')\n",
      "22. SUCCESS\n",
      "<re.Match object; span=(0, 4), match='TEXT'>\n"
     ]
    }
   ],
   "source": [
    "x = re.match(r\"(te)*?xt\", \"TEXT\", re.IGNORECASE | re.DEBUG)\n",
    "print(x)"
   ]
  },
  {
   "cell_type": "code",
   "execution_count": 77,
   "metadata": {},
   "outputs": [
    {
     "name": "stdout",
     "output_type": "stream",
     "text": [
      "Return the string obtained by replacing the leftmost\n",
      "    non-overlapping occurrences of the pattern in string by the\n",
      "    replacement repl.  repl can be either a string or a callable;\n",
      "    if a string, backslash escapes in it are processed.  If it is\n",
      "    a callable, it's passed the Match object and must return\n",
      "    a replacement string to be used.\n"
     ]
    }
   ],
   "source": [
    "print(re.sub.__doc__)"
   ]
  },
  {
   "cell_type": "code",
   "execution_count": null,
   "metadata": {},
   "outputs": [],
   "source": [
    "# Вернуть строку, полученную путем замены самого левого\n",
    "# Неокрашенные входы шаблона в строке\n",
    "# Замена Repl.Repl может быть либо строкой, либо вызовой;\n",
    "# Если строка, Backslash сбегает в ней, обрабатывается.Если это\n",
    "# Вызов, он прошел объект соответствия и должен вернуть\n",
    "# Для использования строки замены."
   ]
  }
 ],
 "metadata": {
  "interpreter": {
   "hash": "26de051ba29f2982a8de78e945f0abaf191376122a1563185a90213a26c5da77"
  },
  "kernelspec": {
   "display_name": "Python 3.10.4 64-bit",
   "language": "python",
   "name": "python3"
  },
  "language_info": {
   "codemirror_mode": {
    "name": "ipython",
    "version": 3
   },
   "file_extension": ".py",
   "mimetype": "text/x-python",
   "name": "python",
   "nbconvert_exporter": "python",
   "pygments_lexer": "ipython3",
   "version": "3.10.4"
  },
  "orig_nbformat": 4
 },
 "nbformat": 4,
 "nbformat_minor": 2
}
