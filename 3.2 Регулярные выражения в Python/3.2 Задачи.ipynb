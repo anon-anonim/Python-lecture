{
 "cells": [
  {
   "cell_type": "markdown",
   "metadata": {},
   "source": [
    "# **Задача 1**"
   ]
  },
  {
   "cell_type": "markdown",
   "metadata": {},
   "source": [
    "Вам дана последовательность строк.  \n",
    "Выведите строки, содержащие *\"cat\"* в качестве подстроки хотя бы два раза.  \n",
    "  \n",
    "Примечание:  \n",
    "Считать все строки по одной из стандартного потока ввода вы можете, например, так  "
   ]
  },
  {
   "cell_type": "code",
   "execution_count": null,
   "metadata": {},
   "outputs": [],
   "source": [
    "import sys\n",
    "\n",
    "for line in sys.stdin:\n",
    "    line = line.rstrip()\n",
    "    # process line"
   ]
  },
  {
   "cell_type": "markdown",
   "metadata": {},
   "source": [
    ">Sample Input:\n",
    "\n",
    "catcat  \n",
    "cat and cat  \n",
    "catac  \n",
    "cat  \n",
    "ccaatt  \n",
    "\n",
    ">Sample Output:\n",
    "\n",
    "catcat\n",
    "cat and cat"
   ]
  },
  {
   "cell_type": "markdown",
   "metadata": {},
   "source": [
    "## **Решение задачи 1**"
   ]
  },
  {
   "cell_type": "code",
   "execution_count": null,
   "metadata": {},
   "outputs": [],
   "source": [
    "import sys\n",
    "import re\n",
    "\n",
    "for line in sys.stdin:\n",
    "    line = line.rstrip()\n",
    "    pattern = r\"cat.*cat\"\n",
    "    string = line\n",
    "    all_inclusions = re.findall(pattern,string)    \n",
    "    if all_inclusions != []:\n",
    "        print(line)"
   ]
  },
  {
   "cell_type": "code",
   "execution_count": null,
   "metadata": {},
   "outputs": [],
   "source": [
    "import re\n",
    "import sys\n",
    "\n",
    "for line in sys.stdin:\n",
    "    line = line.strip()\n",
    "    if re.search(r\"cat.*cat\", line):\n",
    "        print(line)"
   ]
  },
  {
   "cell_type": "markdown",
   "metadata": {},
   "source": [
    "# **Задача 2**"
   ]
  },
  {
   "cell_type": "markdown",
   "metadata": {},
   "source": [
    "Вам дана последовательность строк.  \n",
    "Выведите строки, содержащие **\"cat\"** в качестве слова.  \n",
    "\n",
    "Примечание:  \n",
    "Для работы со словами используйте группы символов *\\b* и *\\B*.  \n",
    "Описание этих групп вы можете найти в документации.  "
   ]
  },
  {
   "cell_type": "markdown",
   "metadata": {},
   "source": [
    ">Sample Input:\n",
    "\n",
    "cat  \n",
    "catapult and cat  \n",
    "catcat  \n",
    "concat  \n",
    "Cat  \n",
    "\"cat\"  \n",
    "!cat?  \n",
    "\n",
    ">Sample Output:\n",
    "\n",
    "cat  \n",
    "catapult and cat  \n",
    "\"cat\"  \n",
    "!cat?  "
   ]
  },
  {
   "cell_type": "markdown",
   "metadata": {},
   "source": [
    "## **Решение**"
   ]
  },
  {
   "cell_type": "code",
   "execution_count": null,
   "metadata": {},
   "outputs": [],
   "source": [
    "import sys\n",
    "import re\n",
    "\n",
    "for line in sys.stdin:\n",
    "    line = line.rstrip()\n",
    "    if re.search(r'\\bcat\\b', line):\n",
    "        print(line)"
   ]
  },
  {
   "cell_type": "markdown",
   "metadata": {},
   "source": [
    "# **Задача 3**"
   ]
  },
  {
   "cell_type": "markdown",
   "metadata": {},
   "source": [
    "  Вам дана последовательность строк.  \n",
    "Выведите строки, содержащие две буквы \"**z**\", между которыми ровно три символа.  "
   ]
  },
  {
   "cell_type": "markdown",
   "metadata": {},
   "source": [
    ">Sample Input:  \n",
    "\n",
    "zabcz  \n",
    "zzz  \n",
    "zzxzz  \n",
    "zz  \n",
    "zxz  \n",
    "zzxzxxz  \n",
    "  \n",
    ">Sample Output:  \n",
    "\n",
    "zabcz  \n",
    "zzxzz  "
   ]
  },
  {
   "cell_type": "markdown",
   "metadata": {},
   "source": [
    "## **Решение**"
   ]
  },
  {
   "cell_type": "code",
   "execution_count": null,
   "metadata": {},
   "outputs": [],
   "source": [
    "import sys\n",
    "import re\n",
    "\n",
    "for line in sys.stdin:\n",
    "    line = line.rstrip()\n",
    "    if re.search(r'z\\w{3}z', line):\n",
    "        print(line)"
   ]
  },
  {
   "cell_type": "markdown",
   "metadata": {},
   "source": [
    "# **Задача 4**"
   ]
  },
  {
   "cell_type": "markdown",
   "metadata": {},
   "source": [
    "Вам дана последовательность строк.  \n",
    "Выведите строки, содержащие обратный слеш \"\\\".  \n",
    "  \n",
    ">Sample Input:\n",
    "  \n",
    "\\w denotes word character  \n",
    "No slashes here  \n",
    "\n",
    ">Sample Output:  \n",
    "\n",
    "\\w denotes word character  "
   ]
  },
  {
   "cell_type": "markdown",
   "metadata": {},
   "source": [
    "## **Решение**"
   ]
  },
  {
   "cell_type": "code",
   "execution_count": null,
   "metadata": {},
   "outputs": [],
   "source": [
    "import sys\n",
    "import re\n",
    "\n",
    "for line in sys.stdin:\n",
    "    line = line.rstrip()\n",
    "    if re.search(r'\\\\', line):\n",
    "        print(line)\n"
   ]
  },
  {
   "cell_type": "markdown",
   "metadata": {},
   "source": [
    "# **Задача 5**"
   ]
  },
  {
   "cell_type": "markdown",
   "metadata": {},
   "source": [
    "Вам дана последовательность строк.  \n",
    "Выведите строки, содержащие слово, состоящее из двух одинаковых частей (тандемный повтор).  \n",
    "\n",
    ">Sample Input:  \n",
    "\n",
    "blabla is a tandem repetition  \n",
    "123123 is good too  \n",
    "go go  \n",
    "aaa  \n",
    ">Sample Output:  \n",
    "\n",
    "blabla is a tandem repetition  \n",
    "123123 is good too  "
   ]
  },
  {
   "cell_type": "markdown",
   "metadata": {},
   "source": [
    "### **Решениее**"
   ]
  },
  {
   "cell_type": "code",
   "execution_count": null,
   "metadata": {},
   "outputs": [],
   "source": [
    "import sys\n",
    "import re\n",
    "\n",
    "for line in sys.stdin:\n",
    "    line = line.rstrip()\n",
    "    if re.search(r'\\b(\\w+)\\1\\b', line):\n",
    "        print(line)"
   ]
  },
  {
   "cell_type": "markdown",
   "metadata": {},
   "source": [
    "# **Задача 6**"
   ]
  },
  {
   "cell_type": "markdown",
   "metadata": {},
   "source": [
    "Вам дана последовательность строк.    \n",
    "В каждой строке замените все вхождения подстроки **\"human\"** на подстроку **\"computer\"** и выведите полученные строки.  \n",
    "  \n",
    ">Sample Input:\n",
    "   \n",
    "I need to understand the human mind  \n",
    "humanity  \n",
    "\n",
    ">Sample Output:  \n",
    "  \n",
    "I need to understand the computer mind  \n",
    "computerity  "
   ]
  },
  {
   "cell_type": "markdown",
   "metadata": {},
   "source": [
    "### **Решениее**"
   ]
  },
  {
   "cell_type": "code",
   "execution_count": null,
   "metadata": {},
   "outputs": [],
   "source": [
    "import sys\n",
    "import re\n",
    "\n",
    "for line in sys.stdin:\n",
    "    line = line.rstrip()\n",
    "    fixed_type = re.sub(\"human\", \"computer\", line)\n",
    "    print(fixed_type)"
   ]
  },
  {
   "cell_type": "markdown",
   "metadata": {},
   "source": [
    "# **Задача 7**"
   ]
  },
  {
   "cell_type": "markdown",
   "metadata": {},
   "source": [
    "Вам дана последовательность строк.  \n",
    "В каждой строке замените первое вхождение слова, состоящего только из латинских букв \"a\" (регистр не важен), на слово \"argh\".  \n",
    "  \n",
    "Примечание:  \n",
    "Обратите внимание на параметр count у функции sub.  \n",
    "\n",
    ">Sample Input:  \n",
    "\n",
    "There’ll be no more \"Aaaaaaaaaaaaaaa\"  \n",
    "AaAaAaA AaAaAaA  \n",
    "\n",
    ">Sample Output:  \n",
    "  \n",
    "There’ll be no more \"argh\"  \n",
    "argh AaAaAaA  "
   ]
  },
  {
   "cell_type": "markdown",
   "metadata": {},
   "source": [
    "### **Решениее**"
   ]
  },
  {
   "cell_type": "code",
   "execution_count": null,
   "metadata": {},
   "outputs": [],
   "source": [
    "import sys\n",
    "import re\n",
    "\n",
    "for line in sys.stdin:\n",
    "    line = line.rstrip()\n",
    "    fixed_type = re.sub(r\"\\b(a|A)+\\b\", \"argh\", line, count=1)\n",
    "    print(fixed_type)"
   ]
  },
  {
   "cell_type": "markdown",
   "metadata": {},
   "source": [
    "# **Задача 8**"
   ]
  },
  {
   "cell_type": "markdown",
   "metadata": {},
   "source": [
    "Вам дана последовательность строк.  \n",
    "В каждой строке поменяйте местами две первых буквы в каждом слове, состоящем хотя бы из двух букв.  \n",
    "Буквой считается символ из группы \\w.  \n",
    "\n",
    ">Sample Input:\n",
    "\n",
    "this is a text  \n",
    "\"this' !is. ?n1ce,  \n",
    ">Sample Output:\n",
    "\n",
    "htis si a etxt  \n",
    "\"htis' !si. ?1nce  "
   ]
  },
  {
   "cell_type": "markdown",
   "metadata": {},
   "source": [
    "### **Решениее**"
   ]
  },
  {
   "cell_type": "code",
   "execution_count": null,
   "metadata": {},
   "outputs": [],
   "source": [
    "import sys\n",
    "import re\n",
    "\n",
    "for line in sys.stdin:\n",
    "    line = line.rstrip()\n",
    "    pattern = r\"(\\b\\w)(\\w)\"\n",
    "    fixed_type = re.sub(pattern,r\"\\2\\1\", line )\n",
    "    print(fixed_type)"
   ]
  },
  {
   "cell_type": "markdown",
   "metadata": {},
   "source": [
    "Тут нужны группировки. Если туговато с их пониманием, как было у меня, читаем и стараемся понять логику:  \n",
    "  \n",
    "import re  \n",
    "line = 'abcdef'  \n",
    "pattern = r'(\\w)(\\w)(\\w)(\\w+)'  \n",
    "print(re.sub(pattern, r'\\3\\2\\1\\4', line))  \n",
    "> cbafed  \n",
    "\n",
    "В нашем шаблоне (pattern) есть (\\w) повторённая три раза. Операция повторения () даёт нам возможность запомнить \"индекс\" элемента шаблона. Этот \"индекс\" в дальнейшем мы можем вызвать например через \\1 что соответствует первому элементу группировки т.е. \\1 == 'a' в данной строке; аналогично и дальше слева направо \\2 =='b'    \\3 == 'с'    ,а  (\\w+) == 'def'  то есть остаток нашей строки.  \n",
    "  \n",
    "Таким образом указывая в выводе \\3\\2\\1\\4 мы заменяем соответствующие элементы в обратном порядке:  \\3\\2\\1 == 'cba'  то же самое 'abc' >>>'cba' и прибавляем к ним 'def' через \\4.  "
   ]
  },
  {
   "cell_type": "markdown",
   "metadata": {},
   "source": [
    "# **Задача 9**"
   ]
  },
  {
   "cell_type": "markdown",
   "metadata": {},
   "source": [
    "Вам дана последовательность строк.  \n",
    "В каждой строке замените все вхождения нескольких одинаковых букв на одну букву.  \n",
    "Буквой считается символ из группы *\\w*.  \n",
    "\n",
    ">Sample Input:\n",
    "\n",
    "attraction  \n",
    "buzzzz  \n",
    ">Sample Output:\n",
    "\n",
    "atraction  \n",
    "buz  "
   ]
  },
  {
   "cell_type": "markdown",
   "metadata": {},
   "source": [
    "### **Решениее**"
   ]
  },
  {
   "cell_type": "code",
   "execution_count": null,
   "metadata": {},
   "outputs": [],
   "source": [
    "import sys\n",
    "import re\n",
    "\n",
    "for line in sys.stdin:\n",
    "    line = line.rstrip()\n",
    "    pattern = r\"(\\w)(\\1+)\"\n",
    "    fixed_type = re.sub(pattern,r\"\\1\", line )\n",
    "    print(fixed_type)"
   ]
  }
 ],
 "metadata": {
  "language_info": {
   "name": "python"
  },
  "orig_nbformat": 4
 },
 "nbformat": 4,
 "nbformat_minor": 2
}
