{
 "cells": [
  {
   "cell_type": "markdown",
   "metadata": {},
   "source": [
    "## **Задача 1**"
   ]
  },
  {
   "cell_type": "markdown",
   "metadata": {},
   "source": [
    "Вам дана в архиве  файловая структура, состоящая из директорий и файлов.\n",
    "\n",
    "Вам необходимо распаковать этот архив, и затем найти в данной в файловой структуре все директории, в которых есть хотя бы один файл с расширением \".py\". \n",
    "\n",
    "Ответом на данную задачу будет являться файл со списком таких директорий, отсортированных в лексикографическом порядке."
   ]
  },
  {
   "cell_type": "code",
   "execution_count": null,
   "metadata": {},
   "outputs": [],
   "source": [
    "import os\n",
    "\n",
    "import os.path"
   ]
  },
  {
   "cell_type": "code",
   "execution_count": 7,
   "metadata": {},
   "outputs": [
    {
     "name": "stdout",
     "output_type": "stream",
     "text": [
      "['a', 'b', 'c', 'not_py.txt', 'sample.py']\n",
      "C:\\Users\\anona\\OneDrive\\Документы\\Обучение\\Phyton\\[stepik]  Python основы и применение\\2.4 Работа с файловой системой и файлами\\Задача 2\n"
     ]
    }
   ],
   "source": [
    "print(os.listdir())\n",
    "\n",
    "os.chdir(\"C:\\\\Users\\\\anona\\OneDrive\\\\Документы\\\\Обучение\\\\Phyton\\\\[stepik]  Python основы и применение\\\\2.4 Работа с файловой системой и файлами\\\\Задача 2\")\n",
    "print(os.getcwd())"
   ]
  },
  {
   "cell_type": "code",
   "execution_count": null,
   "metadata": {},
   "outputs": [],
   "source": [
    "data = set()"
   ]
  },
  {
   "cell_type": "code",
   "execution_count": 16,
   "metadata": {},
   "outputs": [],
   "source": [
    "def check(file_):\n",
    "    for file_ in files:\n",
    "        if file_[-3:] == '.py':\n",
    "                return True\n",
    "\n",
    "for current_dir, dirs, files in os.walk('.'):\n",
    "    # print(current_dir,dirs,files)    \n",
    "    if check(files) == True:        \n",
    "        with open('py_path.txt','a') as path:\n",
    "            path.write(current_dir[2:]+'\\n')\n",
    "        "
   ]
  }
 ],
 "metadata": {
  "interpreter": {
   "hash": "26de051ba29f2982a8de78e945f0abaf191376122a1563185a90213a26c5da77"
  },
  "kernelspec": {
   "display_name": "Python 3.10.4 64-bit",
   "language": "python",
   "name": "python3"
  },
  "language_info": {
   "codemirror_mode": {
    "name": "ipython",
    "version": 3
   },
   "file_extension": ".py",
   "mimetype": "text/x-python",
   "name": "python",
   "nbconvert_exporter": "python",
   "pygments_lexer": "ipython3",
   "version": "3.10.4"
  },
  "orig_nbformat": 4
 },
 "nbformat": 4,
 "nbformat_minor": 2
}
