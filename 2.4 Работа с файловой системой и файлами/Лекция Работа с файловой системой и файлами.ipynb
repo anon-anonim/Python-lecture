{
 "cells": [
  {
   "cell_type": "markdown",
   "metadata": {},
   "source": [
    "## **Работа с файловой системой и файлами**"
   ]
  },
  {
   "cell_type": "markdown",
   "metadata": {},
   "source": [
    "Для открытия файла в языке Python  используется следующая конструкция:"
   ]
  },
  {
   "cell_type": "code",
   "execution_count": null,
   "metadata": {},
   "outputs": [],
   "source": [
    "file_open = open('test.txt','r')  # open('имя файла','ключ(по умолчанию ключ на чтение 'r')"
   ]
  },
  {
   "cell_type": "markdown",
   "metadata": {},
   "source": [
    "Краткий список режимов открытия файлов:\n",
    "  \n",
    "  **'r'(read)**   -открытие файла длф чтения(по умолчанию)  \n",
    "  **'w'(write)**  -открытие файла для записи, содержимое фалов стирается  \n",
    "  **'a'(append)** -открытие для записи, запись ведется в конец файла  \n",
    "  **'b'(binary)** -открыть файл в бинарном режиме  \n",
    "  **'t'(text)**  -открыть файл в текстовом режиме(по умолчанию)  \n",
    "  **'r+'(read,write)**    -открыть файл для чтения и записи  \n",
    "  **'W+'(read,clear,write)** -открыть для чтения и записи, содержимое файла стирается  "
   ]
  },
  {
   "cell_type": "code",
   "execution_count": null,
   "metadata": {},
   "outputs": [],
   "source": [
    "file_open_read_binary = open('test.txt','rb')  # возможно сочетать режимы для чтения файлов"
   ]
  },
  {
   "cell_type": "markdown",
   "metadata": {},
   "source": [
    "### **Чтение файлов**"
   ]
  },
  {
   "cell_type": "markdown",
   "metadata": {},
   "source": [
    "Функция **open** создает *file_object*"
   ]
  },
  {
   "cell_type": "code",
   "execution_count": 17,
   "metadata": {},
   "outputs": [
    {
     "name": "stdout",
     "output_type": "stream",
     "text": [
      "Hello World!\n"
     ]
    }
   ],
   "source": [
    "file_open = open('test.txt')\n",
    "file_read = file_open.read(12) # читает первые 12 символов\n",
    "print(file_read)\n"
   ]
  },
  {
   "cell_type": "code",
   "execution_count": 18,
   "metadata": {},
   "outputs": [
    {
     "name": "stdout",
     "output_type": "stream",
     "text": [
      "\n",
      "Hi!\n",
      "How are you ?\n",
      "Im fine.\n",
      "Great.\n",
      "_______________\n",
      "'\\nHi!\\nHow are you ?\\nIm fine.\\nGreat.'\n",
      "_______________\n",
      "['', 'Hi!', 'How are you ?', 'Im fine.', 'Great.']\n"
     ]
    }
   ],
   "source": [
    "file_read_2 = file_open.read() # читает все непорченые сивовы\n",
    "print(file_read_2)\n",
    "\n",
    "print('_______________')\n",
    "print(repr(file_read_2)) # repr - выводит содержимое в качестве строки\n",
    "print('_______________')\n",
    "file_split_lines = file_read_2.splitlines() # splitlines() разбивает текст построчно\n",
    "print(file_split_lines)\n",
    "\n",
    "file_open.close()\n"
   ]
  },
  {
   "cell_type": "markdown",
   "metadata": {},
   "source": [
    "Для того что бы считывать файл построчно, можно использовать метод *readline()*:"
   ]
  },
  {
   "cell_type": "code",
   "execution_count": 22,
   "metadata": {},
   "outputs": [
    {
     "name": "stdout",
     "output_type": "stream",
     "text": [
      "Hello World!\n",
      "\n"
     ]
    }
   ],
   "source": [
    "file_open_2 = open('test.txt','r')\n",
    "f_read_line = file_open_2.readline()\n",
    "print(f_read_line)"
   ]
  },
  {
   "cell_type": "code",
   "execution_count": 23,
   "metadata": {},
   "outputs": [
    {
     "name": "stdout",
     "output_type": "stream",
     "text": [
      "'Hi!\\n'\n"
     ]
    }
   ],
   "source": [
    "f_read_line = file_open_2.readline()\n",
    "print(repr(f_read_line))"
   ]
  },
  {
   "cell_type": "code",
   "execution_count": 24,
   "metadata": {},
   "outputs": [
    {
     "name": "stdout",
     "output_type": "stream",
     "text": [
      "'How are you ?'\n"
     ]
    }
   ],
   "source": [
    "f_read_line = file_open_2.readline().rstrip() # убирает символы переноса строки\n",
    "print(repr(f_read_line))"
   ]
  },
  {
   "cell_type": "code",
   "execution_count": 25,
   "metadata": {},
   "outputs": [],
   "source": [
    "file_open_2.close()"
   ]
  },
  {
   "cell_type": "markdown",
   "metadata": {},
   "source": [
    "Итерация по *file object*:"
   ]
  },
  {
   "cell_type": "code",
   "execution_count": 18,
   "metadata": {},
   "outputs": [
    {
     "name": "stdout",
     "output_type": "stream",
     "text": [
      "'Hello World!'\n",
      "'Hi!'\n",
      "'How are you ?'\n",
      "'Im fine.'\n",
      "'Great.'\n",
      "_________________________\n",
      "''\n"
     ]
    }
   ],
   "source": [
    "f_open =open('test.txt')\n",
    "\n",
    "for line in f_open:\n",
    "    line = line.rstrip()\n",
    "    print(repr(line))\n",
    "\n",
    "\n",
    "print('_________________________')\n",
    "empty_str = f_open.read()\n",
    "print(repr(empty_str)) # в конце есть пустая строка\n",
    "\n",
    "f_open.close()    "
   ]
  },
  {
   "cell_type": "markdown",
   "metadata": {},
   "source": [
    "### **Запись файлов**"
   ]
  },
  {
   "cell_type": "markdown",
   "metadata": {},
   "source": [
    "Если используется конструкция *open('','w)* в режиме чтения, файл открывается или создается в зависимости существует ли он или нет."
   ]
  },
  {
   "cell_type": "code",
   "execution_count": 32,
   "metadata": {},
   "outputs": [
    {
     "data": {
      "text/plain": [
       "<function TextIOWrapper.close()>"
      ]
     },
     "execution_count": 32,
     "metadata": {},
     "output_type": "execute_result"
    }
   ],
   "source": [
    "create_file = open('create_test.txt','w')\n",
    "create_file.close()"
   ]
  },
  {
   "cell_type": "code",
   "execution_count": 4,
   "metadata": {},
   "outputs": [],
   "source": [
    "write_file = open('write_test.txt','w')\n",
    "write_file.write('Hello file\\n')\n",
    "write_file.write('Hi!')\n",
    "\n",
    "write_file.close()\n",
    "\n",
    "# Hello file\n",
    "# Hi!"
   ]
  },
  {
   "cell_type": "code",
   "execution_count": 6,
   "metadata": {},
   "outputs": [],
   "source": [
    "line_file = open('line_join.txt', 'w')\n",
    "lines = ['Line 1', 'Line 2', 'Line 3','Line 4', 'Line...']\n",
    "contents = \"\\n\".join(lines)\n",
    "line_file.write(contents)\n",
    "\n",
    "line_file.close()\n",
    "\n",
    "# Line 1\n",
    "# Line 2\n",
    "# Line 3\n",
    "# Line 4\n",
    "# Line..."
   ]
  },
  {
   "cell_type": "markdown",
   "metadata": {},
   "source": [
    "**...append**"
   ]
  },
  {
   "cell_type": "code",
   "execution_count": 14,
   "metadata": {},
   "outputs": [],
   "source": [
    "app_file = open('append_test.txt','a')\n",
    "app_file.write('Hello file\\n')\n",
    "app_file.write('Hi!\\n')\n",
    "app_file.write('_____________\\n')\n",
    "\n",
    "write_file.close()\n",
    "\n",
    "# Hello file\n",
    "# Hi!\n",
    "# _____________\n",
    "# Hello file\n",
    "# Hi!\n",
    "# _____________\n",
    "# Hello file\n",
    "# Hi!\n",
    "# _____________\n",
    "# Hello file\n",
    "# Hi!\n",
    "# _____________\n",
    "# Hello file\n",
    "# Hi!\n",
    "# _____________\n"
   ]
  },
  {
   "cell_type": "markdown",
   "metadata": {},
   "source": [
    "**Конструкция *with***\n",
    "автоматически открывает и закрывает файл когда мы его используем."
   ]
  },
  {
   "cell_type": "code",
   "execution_count": 16,
   "metadata": {},
   "outputs": [],
   "source": [
    "with open('with_test.txt', 'w') as wh_file:\n",
    "    wh_file.write('Hello file\\n')\n",
    "    wh_file.write('Hi!') # когда мы выходим из блока конструкция автоматически закрывает файл\n",
    "\n"
   ]
  },
  {
   "cell_type": "code",
   "execution_count": 17,
   "metadata": {},
   "outputs": [],
   "source": [
    "with open('with_test.txt', 'r') as wh_file, open('with_copy.txt', 'w') as copy:\n",
    "    for line in wh_file:\n",
    "        copy.write(line)"
   ]
  },
  {
   "cell_type": "markdown",
   "metadata": {},
   "source": [
    "## **Работа с файловой системой**"
   ]
  },
  {
   "cell_type": "markdown",
   "metadata": {},
   "source": [
    "Библиотеки для работы с файловой системой:"
   ]
  },
  {
   "cell_type": "code",
   "execution_count": 19,
   "metadata": {},
   "outputs": [],
   "source": [
    "import os\n",
    "\n",
    "import os.path\n",
    "\n",
    "import shutil"
   ]
  },
  {
   "cell_type": "code",
   "execution_count": 23,
   "metadata": {},
   "outputs": [
    {
     "name": "stdout",
     "output_type": "stream",
     "text": [
      "['append_test.txt', 'create_test.txt', 'line_join.txt', 'reversal_text.txt', 'test.txt', 'testdir', 'text.txt', 'with_copy.txt', 'with_test.txt', 'write_test.txt', 'Задача 1.ipynb', 'Лекция Работа с файловой системой и файлами.ipynb']\n"
     ]
    }
   ],
   "source": [
    "print(os.listdir())"
   ]
  },
  {
   "cell_type": "code",
   "execution_count": 21,
   "metadata": {},
   "outputs": [
    {
     "name": "stdout",
     "output_type": "stream",
     "text": [
      "c:\\Users\\anona\\OneDrive\\Документы\\Обучение\\Phyton\\[stepik]  Python основы и применение\\2.4 Работа с файловой системой и файлами\n"
     ]
    }
   ],
   "source": [
    "print(os.getcwd())"
   ]
  },
  {
   "cell_type": "code",
   "execution_count": 28,
   "metadata": {},
   "outputs": [
    {
     "name": "stdout",
     "output_type": "stream",
     "text": [
      "['Helo listdir.txt']\n"
     ]
    }
   ],
   "source": [
    "print(os.listdir(\"testdir\"))"
   ]
  },
  {
   "cell_type": "code",
   "execution_count": 29,
   "metadata": {},
   "outputs": [
    {
     "name": "stdout",
     "output_type": "stream",
     "text": [
      "True\n",
      "False\n"
     ]
    }
   ],
   "source": [
    "print(os.path.exists('text.txt'))\n",
    "print(os.path.exists('None.txt'))"
   ]
  },
  {
   "cell_type": "code",
   "execution_count": 31,
   "metadata": {},
   "outputs": [
    {
     "name": "stdout",
     "output_type": "stream",
     "text": [
      "True\n",
      "True\n",
      "False\n"
     ]
    }
   ],
   "source": [
    "print(os.path.isfile('text.txt'))\n",
    "print(os.path.isdir('testdir'))\n",
    "print(os.path.isfile('testdir'))"
   ]
  },
  {
   "cell_type": "code",
   "execution_count": 33,
   "metadata": {},
   "outputs": [
    {
     "name": "stdout",
     "output_type": "stream",
     "text": [
      "c:\\Users\\anona\\OneDrive\\Документы\\Обучение\\Phyton\\[stepik]  Python основы и применение\\2.4 Работа с файловой системой и файлами\\testdir\\Helo listdir\n"
     ]
    }
   ],
   "source": [
    "print(os.path.abspath('testdir/Helo listdir'))"
   ]
  },
  {
   "cell_type": "code",
   "execution_count": 104,
   "metadata": {},
   "outputs": [
    {
     "name": "stdout",
     "output_type": "stream",
     "text": [
      "C:\\Users\\anona\\OneDrive\\Документы\\Обучение\\Phyton\\[stepik]  Python основы и применение\\2.4 Работа с файловой системой и файлами\n"
     ]
    }
   ],
   "source": [
    "os.chdir(\"C:\\\\Users\\\\anona\\OneDrive\\\\Документы\\\\Обучение\\\\Phyton\\\\[stepik]  Python основы и применение\\\\2.4 Работа с файловой системой и файлами\")\n",
    "print(os.getcwd())"
   ]
  },
  {
   "cell_type": "code",
   "execution_count": null,
   "metadata": {},
   "outputs": [],
   "source": [
    "path1 = os.path.abspath('.') #              \n",
    "path2 = os.path.abspath('./') #. / Указывает каталог, в котором находится текущий файл (может быть опущен)\n",
    "path3 = os.path.abspath('/') # / Указывает корневой каталог текущего сайта (каталог жесткого диска карты доменного имени)\n",
    "path4 = os.path.abspath('../') # ... / указывает предыдущий каталог каталога, в котором находится текущий файл"
   ]
  },
  {
   "cell_type": "code",
   "execution_count": 100,
   "metadata": {},
   "outputs": [
    {
     "name": "stdout",
     "output_type": "stream",
     "text": [
      "['.git', '.swp', '1.5 Введение в классы', '1.6 Наследование классов', '2.1 Ошибки и исключения', '2.2 Работа с кодом модули и импорт', '2.3 Итераторы и генераторы', '2.4 Работа с файловой системой и файлами', 'Paste_image', 'temp.ipynb']\n",
      "C:\\Users\\anona\\OneDrive\\Документы\\Обучение\\Phyton\\[stepik]  Python основы и применение\\2.2 Работа с кодом модули и импорт\n"
     ]
    }
   ],
   "source": [
    "print(os.listdir())\n",
    "os.chdir('2.2 Работа с кодом модули и импорт')\n",
    "print(os.getcwd())"
   ]
  },
  {
   "cell_type": "code",
   "execution_count": 106,
   "metadata": {},
   "outputs": [
    {
     "name": "stdout",
     "output_type": "stream",
     "text": [
      ". ['testdir'] ['append_test.txt', 'create_test.txt', 'line_join.txt', 'reversal_text.txt', 'test.txt', 'text.txt', 'with_copy.txt', 'with_test.txt', 'write_test.txt', 'Задача 1.ipynb', 'Лекция Работа с файловой системой и файлами.ipynb']\n",
      ".\\testdir [] ['Helo listdir.txt']\n"
     ]
    }
   ],
   "source": [
    "for current_dir, dirs, files in os.walk('.'):\n",
    "    print(current_dir,dirs,files)"
   ]
  },
  {
   "cell_type": "code",
   "execution_count": 113,
   "metadata": {},
   "outputs": [
    {
     "name": "stdout",
     "output_type": "stream",
     "text": [
      "C:\\Users\\anona\\OneDrive\\Документы\\Обучение\\Phyton\\[stepik]  Python основы и применение\\2.4 Работа с файловой системой и файлами\n",
      "['append_test.txt', 'create_test.txt', 'line_join.txt', 'reversal_text.txt', 'test.txt', 'testdir', 'text.txt', 'with_copy.txt', 'with_test.txt', 'write_test.txt', 'Задача 1.ipynb', 'Лекция Работа с файловой системой и файлами.ipynb']\n"
     ]
    },
    {
     "data": {
      "text/plain": [
       "'testdir/Helo copy_listdir.txt'"
      ]
     },
     "execution_count": 113,
     "metadata": {},
     "output_type": "execute_result"
    }
   ],
   "source": [
    "import shutil\n",
    "print(os.getcwd())\n",
    "print(os.listdir())\n",
    "\n",
    "shutil.copy('testdir/Helo listdir.txt','testdir/Helo copy_listdir.txt')"
   ]
  },
  {
   "cell_type": "code",
   "execution_count": 115,
   "metadata": {},
   "outputs": [
    {
     "data": {
      "text/plain": [
       "'testdir/testdir'"
      ]
     },
     "execution_count": 115,
     "metadata": {},
     "output_type": "execute_result"
    }
   ],
   "source": [
    "shutil.copytree('testdir','testdir/testdir')"
   ]
  }
 ],
 "metadata": {
  "interpreter": {
   "hash": "26de051ba29f2982a8de78e945f0abaf191376122a1563185a90213a26c5da77"
  },
  "kernelspec": {
   "display_name": "Python 3.10.4 64-bit",
   "language": "python",
   "name": "python3"
  },
  "language_info": {
   "codemirror_mode": {
    "name": "ipython",
    "version": 3
   },
   "file_extension": ".py",
   "mimetype": "text/x-python",
   "name": "python",
   "nbconvert_exporter": "python",
   "pygments_lexer": "ipython3",
   "version": "3.10.4"
  },
  "orig_nbformat": 4
 },
 "nbformat": 4,
 "nbformat_minor": 2
}
