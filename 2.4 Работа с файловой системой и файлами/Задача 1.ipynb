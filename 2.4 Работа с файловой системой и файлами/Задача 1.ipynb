{
 "cells": [
  {
   "cell_type": "markdown",
   "metadata": {},
   "source": [
    "## **Задача 1**"
   ]
  },
  {
   "cell_type": "markdown",
   "metadata": {},
   "source": [
    "Вам дается текстовый файл, содержащий некоторое количество непустых строк.  \n",
    "На основе него сгенерируйте новый текстовый файл, содержащий те же строки в обратном порядке.  \n",
    "  \n",
    ">**Пример входного файла:**  \n",
    "ab  \n",
    "c  \n",
    "dde  \n",
    "ff  \n",
    "\n",
    ">**Пример выходного файла:**  \n",
    "ff  \n",
    "dde  \n",
    "c  \n",
    "ab  "
   ]
  },
  {
   "cell_type": "code",
   "execution_count": 16,
   "metadata": {},
   "outputs": [],
   "source": [
    "bufer = []\n",
    "with open('text.txt') as text, open('reversal_text.txt', 'w') as rev_text:\n",
    "    for line in text:\n",
    "        bufer.append(line.rstrip())\n",
    "    for line in reversed(bufer): # reversed(bufer) - возвращает итератор\n",
    "        rev_text.write(line+'\\n')\n"
   ]
  }
 ],
 "metadata": {
  "interpreter": {
   "hash": "26de051ba29f2982a8de78e945f0abaf191376122a1563185a90213a26c5da77"
  },
  "kernelspec": {
   "display_name": "Python 3.10.4 64-bit",
   "language": "python",
   "name": "python3"
  },
  "language_info": {
   "codemirror_mode": {
    "name": "ipython",
    "version": 3
   },
   "file_extension": ".py",
   "mimetype": "text/x-python",
   "name": "python",
   "nbconvert_exporter": "python",
   "pygments_lexer": "ipython3",
   "version": "3.10.4"
  },
  "orig_nbformat": 4
 },
 "nbformat": 4,
 "nbformat_minor": 2
}
