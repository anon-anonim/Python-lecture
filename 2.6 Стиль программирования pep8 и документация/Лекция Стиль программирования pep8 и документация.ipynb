{
 "cells": [
  {
   "cell_type": "markdown",
   "metadata": {},
   "source": [
    "## **Стиль программирования: pep8 и документация**"
   ]
  },
  {
   "cell_type": "code",
   "execution_count": null,
   "metadata": {},
   "outputs": [],
   "source": [
    "'''\n",
    "Я сразу смазал карту будня,\n",
    "плеснувши краску из стакана;\n",
    "я показал на блюде студня\n",
    "косые скулы океана.\n",
    "На чешуе жестяной рыбы\n",
    "прочел я зовы новых губ.\n",
    "А вы\n",
    "ноктюрн сыграть\n",
    "могли бы\n",
    "на флейте водосточных труб?\n",
    "\n",
    "1913\n",
    "\n",
    "\n",
    "'''"
   ]
  },
  {
   "cell_type": "code",
   "execution_count": 2,
   "metadata": {},
   "outputs": [
    {
     "name": "stdout",
     "output_type": "stream",
     "text": [
      "OS routines for NT or Posix depending on what system we're on.\n",
      "\n",
      "This exports:\n",
      "  - all functions from posix or nt, e.g. unlink, stat, etc.\n",
      "  - os.path is either posixpath or ntpath\n",
      "  - os.name is either 'posix' or 'nt'\n",
      "  - os.curdir is a string representing the current directory (always '.')\n",
      "  - os.pardir is a string representing the parent directory (always '..')\n",
      "  - os.sep is the (or a most common) pathname separator ('/' or '\\\\')\n",
      "  - os.extsep is the extension separator (always '.')\n",
      "  - os.altsep is the alternate pathname separator (None or '/')\n",
      "  - os.pathsep is the component separator used in $PATH etc\n",
      "  - os.linesep is the line separator in text files ('\\r' or '\\n' or '\\r\\n')\n",
      "  - os.defpath is the default search path for executables\n",
      "  - os.devnull is the file path of the null device ('/dev/null', etc.)\n",
      "\n",
      "Programs that import and use 'os' stand a better chance of being\n",
      "portable between different platforms.  Of course, they must then\n",
      "only use functions that are defined by all platforms (e.g., unlink\n",
      "and opendir), and leave all pathname manipulation to os.path\n",
      "(e.g., split and join).\n",
      "\n"
     ]
    }
   ],
   "source": [
    "import os\n",
    "\n",
    "print(os.__doc__)"
   ]
  },
  {
   "cell_type": "markdown",
   "metadata": {},
   "source": [
    "Процедуры ОС для NT или POSIX в зависимости от того, в какой системе мы находимся.\n",
    "\n",
    "Этот экспорт:\n",
    "  - Все функции из POSIX или NT, например, unlink, stat и т. Д.\n",
    "  - OS.Path - это либо posixpath, либо ntpath\n",
    "  - os.name - это либо «posix», либо 'nt'\n",
    "  - OS.Curdir - это строка, представляющая текущий каталог (всегда '.')\n",
    "  - Os.Pardir - это строка, представляющая родительский каталог (всегда '..')\n",
    "  - OS.SEP - это (или наиболее распространенный) разделитель pathname ('/' или '\\\\')\n",
    "  - os.extsep - это разделитель расширения (всегда '.')\n",
    "  - OS.altsep - это альтернативный сепаратор пути (нет или '/')\n",
    "  - OS.Pathsep - это сепаратор компонента, используемый в $ path и т. д.\n",
    "  - OS.Linesep - это сепаратор строки в текстовых файлах ('\\ r' или '\\ n' или '\\ r \\ n')\n",
    "  - OS.Defpath - это путь поиска по умолчанию для исполнителей\n",
    "  - OS.Devnull - это путь файла NULL Device ('/dev/null' и т. Д.)\n",
    "\n",
    "Программы, которые импортируют и используют «ОС», имеют больше шансов быть\n",
    "портативные между разными платформами. Конечно, они должны тогда\n",
    "Используйте только функции, которые определяются всеми платформами (например, Unlink\n",
    "и Opendir), и оставьте все манипуляции по пути в OS.Path\n",
    "(например, разделить и присоединиться)."
   ]
  },
  {
   "cell_type": "code",
   "execution_count": null,
   "metadata": {},
   "outputs": [],
   "source": []
  },
  {
   "cell_type": "code",
   "execution_count": 3,
   "metadata": {},
   "outputs": [
    {
     "name": "stdout",
     "output_type": "stream",
     "text": [
      "\n",
      "pandas - a powerful data analysis and manipulation library for Python\n",
      "=====================================================================\n",
      "\n",
      "**pandas** is a Python package providing fast, flexible, and expressive data\n",
      "structures designed to make working with \"relational\" or \"labeled\" data both\n",
      "easy and intuitive. It aims to be the fundamental high-level building block for\n",
      "doing practical, **real world** data analysis in Python. Additionally, it has\n",
      "the broader goal of becoming **the most powerful and flexible open source data\n",
      "analysis / manipulation tool available in any language**. It is already well on\n",
      "its way toward this goal.\n",
      "\n",
      "Main Features\n",
      "-------------\n",
      "Here are just a few of the things that pandas does well:\n",
      "\n",
      "  - Easy handling of missing data in floating point as well as non-floating\n",
      "    point data.\n",
      "  - Size mutability: columns can be inserted and deleted from DataFrame and\n",
      "    higher dimensional objects\n",
      "  - Automatic and explicit data alignment: objects can be explicitly aligned\n",
      "    to a set of labels, or the user can simply ignore the labels and let\n",
      "    `Series`, `DataFrame`, etc. automatically align the data for you in\n",
      "    computations.\n",
      "  - Powerful, flexible group by functionality to perform split-apply-combine\n",
      "    operations on data sets, for both aggregating and transforming data.\n",
      "  - Make it easy to convert ragged, differently-indexed data in other Python\n",
      "    and NumPy data structures into DataFrame objects.\n",
      "  - Intelligent label-based slicing, fancy indexing, and subsetting of large\n",
      "    data sets.\n",
      "  - Intuitive merging and joining data sets.\n",
      "  - Flexible reshaping and pivoting of data sets.\n",
      "  - Hierarchical labeling of axes (possible to have multiple labels per tick).\n",
      "  - Robust IO tools for loading data from flat files (CSV and delimited),\n",
      "    Excel files, databases, and saving/loading data from the ultrafast HDF5\n",
      "    format.\n",
      "  - Time series-specific functionality: date range generation and frequency\n",
      "    conversion, moving window statistics, date shifting and lagging.\n",
      "\n"
     ]
    }
   ],
   "source": [
    "import pandas as pd\n",
    "\n",
    "print(pd.__doc__)"
   ]
  },
  {
   "cell_type": "markdown",
   "metadata": {},
   "source": [
    "Панды - мощная библиотека анализа данных и манипуляций для Python\n",
    "============================================================================ ==================\n",
    "\n",
    "**Pandas** - это пакет Python, обеспечивающий быстрые, гибкие и выразительные данные\n",
    "структуры, предназначенные для работы с «реляционными» или «помеченными» данными оба\n",
    "Легко и интуитивно понятно. Он стремится стать фундаментальным строительным блоком высокого уровня для\n",
    "Практически, ** реальный мир ** Анализ данных в Python. Кроме того, он имеет\n",
    "более широкая цель стать ** самыми мощными и гибкими данными с открытым исходным кодом\n",
    "Инструмент анализа / манипуляции доступен на любом языке **. Это уже хорошо\n",
    "его путь к этой цели.\n",
    "\n",
    "Основные особенности\n",
    "--------------\n",
    "Вот лишь некоторые из вещей, которые Панды преуспевают:\n",
    "\n",
    "  - Легкая обработка недостающих данных в плавающей запятой, а также не плавает\n",
    "    точные данные.\n",
    "  - Размер изменяемость: столбцы могут быть вставлены и удалены из DataFrame и\n",
    "    более высокие объекты\n",
    "  - Автоматическое и явное выравнивание данных: объекты могут быть явно выровнены\n",
    "    к набору меток, или пользователь может просто игнорировать этикетки и пусть\n",
    "    `Series`,` dataframe` и т. Д. Автоматически выравнивает данные для вас в\n",
    "    вычисления.\n",
    "  -Мощная, гибкая группа по функциональности для выполнения сплит-аппли\n",
    "    Операции по наборам данных, как для агрегирования, так и для преобразования данных.\n",
    "  - Облегчить преобразование рваных, индексированных по-разному данных в другом Python\n",
    "    и Numpy Data Structures в объекты DataFrame.\n",
    "  - интеллектуальная нарезка на основе метки, причудливая индексация и подмножество крупных\n",
    "    Наборы данных.\n",
    "  - Интуитивно понятное слияние и соединение наборов данных.\n",
    "  - Гибкое изменение и поворот наборов данных.\n",
    "  - Иерархическая маркировка осей (возможно, иметь несколько ярлыков на тика).\n",
    "  - надежные инструменты ввода -вывода для загрузки данных из плоских файлов (CSV и Delimited),\n",
    "    Файлы Excel, базы данных и данные сохранения/загрузки из Ultrafast HDF5\n",
    "    формат.\n",
    "  - Функциональность специфичных временных рядов: генерация и частота дат\n",
    "    преобразование, перемещение статистики окна, смещение даты и отставание.\n"
   ]
  }
 ],
 "metadata": {
  "interpreter": {
   "hash": "26de051ba29f2982a8de78e945f0abaf191376122a1563185a90213a26c5da77"
  },
  "kernelspec": {
   "display_name": "Python 3.10.4 64-bit",
   "language": "python",
   "name": "python3"
  },
  "language_info": {
   "codemirror_mode": {
    "name": "ipython",
    "version": 3
   },
   "file_extension": ".py",
   "mimetype": "text/x-python",
   "name": "python",
   "nbconvert_exporter": "python",
   "pygments_lexer": "ipython3",
   "version": "3.10.4"
  },
  "orig_nbformat": 4
 },
 "nbformat": 4,
 "nbformat_minor": 2
}
