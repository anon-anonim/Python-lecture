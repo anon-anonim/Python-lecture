{
 "cells": [
  {
   "cell_type": "markdown",
   "metadata": {},
   "source": [
    "## Реализуйте класс MoneyBox, для работы с виртуальной копилкой.\n",
    "\n",
    "Каждая копилка имеет ограниченную вместимость, которая выражается целым числом – количеством монет, которые можно положить в копилку. Класс должен поддерживать информацию о количестве монет в копилке, предоставлять возможность добавлять монеты в копилку и узнавать, можно ли добавить в копилку ещё какое-то количество монет, не превышая ее вместимость.\n",
    "\n",
    "Класс должен иметь следующий вид\n",
    "\n",
    "`class MoneyBox:`\n",
    "\n",
    "   `def __init__(self, capacity):`\n",
    "       `# конструктор с аргументом – вместимость копилки`\n",
    "\n",
    "   `def can_add(self, v):`\n",
    "       ` # True, если можно добавить v монет, False иначе`\n",
    "\n",
    "   `def add(self, v):`\n",
    "        `# положить v монет в копилку`\n",
    "        \n",
    "При создании копилки, число монет в ней равно 0.\n",
    "Примечание:\n",
    "Гарантируется, что метод add(self, v) будет вызываться только если can_add(self, v) – True﻿."
   ]
  },
  {
   "cell_type": "code",
   "execution_count": 1,
   "metadata": {},
   "outputs": [],
   "source": [
    "#РЕШЕНИЕ\n",
    "class MoneyBox:\n",
    "    box = []\n",
    "    capacity = int()\n",
    "    status = False\n",
    "    \n",
    "    def __init__(self, capacity):\n",
    "        self.capacity = capacity\n",
    "                                                   \n",
    "\n",
    "    def can_add(self, v):\n",
    "        if v <= self.capacity:\n",
    "            self.status = True\n",
    "            return True\n",
    "        else:\n",
    "            self.status = False \n",
    "            return False                              \n",
    "\n",
    "    def add(self, v):        \n",
    "        if self.status == True or self.can_add(v) == True:\n",
    "            self.box += list('$'*v)\n",
    "            self.capacity = self.capacity - len(list('$'*v))\n",
    "            self.status = False \n",
    "            return self.capacity\n",
    "        "
   ]
  },
  {
   "cell_type": "code",
   "execution_count": 2,
   "metadata": {},
   "outputs": [],
   "source": [
    "pig = MoneyBox(10)\n"
   ]
  },
  {
   "cell_type": "code",
   "execution_count": 3,
   "metadata": {},
   "outputs": [
    {
     "data": {
      "text/plain": [
       "True"
      ]
     },
     "execution_count": 3,
     "metadata": {},
     "output_type": "execute_result"
    }
   ],
   "source": [
    "pig.can_add(6)"
   ]
  },
  {
   "cell_type": "code",
   "execution_count": 4,
   "metadata": {},
   "outputs": [
    {
     "data": {
      "text/plain": [
       "4"
      ]
     },
     "execution_count": 4,
     "metadata": {},
     "output_type": "execute_result"
    }
   ],
   "source": [
    "pig.add(6)"
   ]
  },
  {
   "cell_type": "code",
   "execution_count": 5,
   "metadata": {},
   "outputs": [
    {
     "data": {
      "text/plain": [
       "['$', '$', '$', '$', '$', '$']"
      ]
     },
     "execution_count": 5,
     "metadata": {},
     "output_type": "execute_result"
    }
   ],
   "source": [
    "pig.box"
   ]
  },
  {
   "cell_type": "code",
   "execution_count": 6,
   "metadata": {},
   "outputs": [
    {
     "data": {
      "text/plain": [
       "3"
      ]
     },
     "execution_count": 6,
     "metadata": {},
     "output_type": "execute_result"
    }
   ],
   "source": [
    "pig.add(1)"
   ]
  },
  {
   "cell_type": "code",
   "execution_count": 7,
   "metadata": {},
   "outputs": [
    {
     "data": {
      "text/plain": [
       "['$', '$', '$', '$', '$', '$', '$']"
      ]
     },
     "execution_count": 7,
     "metadata": {},
     "output_type": "execute_result"
    }
   ],
   "source": [
    "pig.box"
   ]
  },
  {
   "cell_type": "code",
   "execution_count": 8,
   "metadata": {},
   "outputs": [],
   "source": [
    "pig.add (1488)"
   ]
  }
 ],
 "metadata": {
  "interpreter": {
   "hash": "b89b5cfaba6639976dc87ff2fec6d58faec662063367e2c229c520fe71072417"
  },
  "kernelspec": {
   "display_name": "Python 3.10.4 64-bit",
   "language": "python",
   "name": "python3"
  },
  "language_info": {
   "codemirror_mode": {
    "name": "ipython",
    "version": 3
   },
   "file_extension": ".py",
   "mimetype": "text/x-python",
   "name": "python",
   "nbconvert_exporter": "python",
   "pygments_lexer": "ipython3",
   "version": "3.10.4"
  },
  "orig_nbformat": 4
 },
 "nbformat": 4,
 "nbformat_minor": 2
}
