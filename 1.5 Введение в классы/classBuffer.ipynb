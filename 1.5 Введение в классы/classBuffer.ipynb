{
 "cells": [
  {
   "cell_type": "markdown",
   "metadata": {},
   "source": [
    "# class Buffer\n",
    "Вам дается последовательность целых чисел и вам нужно ее обработать и вывести на экран сумму первой пятерки чисел из этой последовательности, затем сумму второй пятерки, и т. д.\n",
    "\n",
    "Но последовательность не дается вам сразу целиком. С течением времени к вам поступают её последовательные части. Например, сначала первые три элемента, потом следующие шесть, потом следующие два и т. д.\n",
    "\n",
    "Реализуйте класс Buffer, который будет накапливать в себе элементы последовательности и выводить сумму пятерок последовательных элементов по мере их накопления.\n",
    "\n",
    "Одним из требований к классу является то, что он не должен хранить в себе больше элементов, чем ему действительно необходимо, т. е. он не должен хранить элементы, которые уже вошли в пятерку, для которой была выведена сумма.\n",
    "\n",
    "Класс должен иметь следующий вид"
   ]
  },
  {
   "cell_type": "markdown",
   "metadata": {},
   "source": [
    "`class Buffer:`\n",
    "\n",
    "  `def __init__(self):`\n",
    "    \n",
    " `# конструктор без аргументов`\n",
    "    \n",
    "`    def add(self, *a):`\n",
    "\n",
    "` # добавить следующую часть последовательности`\n",
    "\n",
    "`    def get_current_part(self):`\n",
    "\n",
    "`  # вернуть сохраненные в текущий момент элементы последовательности в порядке, в котором они были`     \n",
    "\n",
    "` # добавлены`"
   ]
  },
  {
   "cell_type": "markdown",
   "metadata": {},
   "source": [
    "## Пример работы с классом\n",
    "\n",
    "    buf = Buffer()\n",
    "\n",
    "    buf.add(1, 2, 3)\n",
    "\n",
    "    buf.get_current_part() # вернуть [1, 2, 3]\n",
    "\n",
    "    buf.add(4, 5, 6) # print(15) – вывод суммы первой пятерки элементов\n",
    "\n",
    "    buf.get_current_part() # вернуть [6]\n",
    "\n",
    "    buf.add(7, 8, 9, 10) # print(40) – вывод суммы второй пятерки элементов\n",
    "\n",
    "    buf.get_current_part() # вернуть []\n",
    "\n",
    "    buf.add(1, 1, 1, 1, 1, 1, 1, 1, 1, 1, 1) # print(5), print(5) – вывод сумм третьей и четвертой пятерки\n",
    "\n",
    "    buf.get_current_part() # вернуть [1]\n"
   ]
  },
  {
   "cell_type": "code",
   "execution_count": 14,
   "metadata": {},
   "outputs": [],
   "source": [
    "class Buffer:\n",
    "    bufer = list()                \n",
    "\n",
    "\n",
    "    def __init__(self):\n",
    "        self.bufer = list()\n",
    "\n",
    "\n",
    "    def add(self, *a):\n",
    "        for i in a:\n",
    "            self.bufer.append(i)\n",
    "            if len(self.bufer) == 5:\n",
    "                print (sum(self.bufer))\n",
    "                self.bufer.clear()\n",
    "\n",
    "    def get_current_part(self):\n",
    "        return self.bufer"
   ]
  },
  {
   "cell_type": "code",
   "execution_count": 15,
   "metadata": {},
   "outputs": [],
   "source": [
    "buf = Buffer()"
   ]
  },
  {
   "cell_type": "code",
   "execution_count": 16,
   "metadata": {},
   "outputs": [
    {
     "name": "stdout",
     "output_type": "stream",
     "text": [
      "15\n"
     ]
    }
   ],
   "source": [
    "buf.add(1,2,3,4,5,6,7)"
   ]
  },
  {
   "cell_type": "code",
   "execution_count": 17,
   "metadata": {},
   "outputs": [
    {
     "data": {
      "text/plain": [
       "[6, 7]"
      ]
     },
     "execution_count": 17,
     "metadata": {},
     "output_type": "execute_result"
    }
   ],
   "source": [
    "buf.get_current_part()"
   ]
  }
 ],
 "metadata": {
  "interpreter": {
   "hash": "b89b5cfaba6639976dc87ff2fec6d58faec662063367e2c229c520fe71072417"
  },
  "kernelspec": {
   "display_name": "Python 3.10.4 64-bit",
   "language": "python",
   "name": "python3"
  },
  "language_info": {
   "codemirror_mode": {
    "name": "ipython",
    "version": 3
   },
   "file_extension": ".py",
   "mimetype": "text/x-python",
   "name": "python",
   "nbconvert_exporter": "python",
   "pygments_lexer": "ipython3",
   "version": "3.10.4"
  },
  "orig_nbformat": 4
 },
 "nbformat": 4,
 "nbformat_minor": 2
}
