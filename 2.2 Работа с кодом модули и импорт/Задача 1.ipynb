{
 "cells": [
  {
   "cell_type": "markdown",
   "metadata": {},
   "source": [
    "# **Задача 1**"
   ]
  },
  {
   "cell_type": "markdown",
   "metadata": {},
   "source": [
    "В первой строке дано три числа, соответствующие некоторой дате **date** -- год, месяц и день.\n",
    "Во второй строке дано одно число **days** -- число дней.  \n",
    "\n",
    "Вычислите и выведите год, месяц и день даты, которая наступит, когда с момента исходной даты **date** пройдет число дней, равное **days**.  \n",
    "\n",
    "*Примечание:*  \n",
    "Для решения этой задачи используйте стандартный модуль **datetime**.  \n",
    "Вам будут полезны класс **datetime.date** для хранения даты и класс **datetime.timedelta** для прибавления дней к дате.  "
   ]
  },
  {
   "cell_type": "markdown",
   "metadata": {},
   "source": [
    ">Sample Input 1:  \n",
    "\n",
    "2016 4 20  \n",
    "14  \n",
    "\n",
    ">Sample Output 1:\n",
    "\n",
    "2016 5 4\n",
    "\n",
    ">Sample Input 2:  \n",
    "\n",
    "2016 2 20  \n",
    "9  \n",
    ">Sample Output 2:  \n",
    "\n",
    "2016 2 29\n",
    "\n",
    ">Sample Input 3:  \n",
    "\n",
    "2015 12 31  \n",
    "1  \n",
    ">Sample Output 3:  \n",
    "\n",
    "2016 1 1  "
   ]
  },
  {
   "cell_type": "markdown",
   "metadata": {},
   "source": [
    "## **Решение**"
   ]
  },
  {
   "cell_type": "code",
   "execution_count": 44,
   "metadata": {},
   "outputs": [
    {
     "name": "stdout",
     "output_type": "stream",
     "text": [
      "2016 4 25\n"
     ]
    }
   ],
   "source": [
    "import datetime\n",
    "d = datetime.date(*tuple(int(i) for i in input().split(' '))) + datetime.timedelta(int(input()))\n",
    "print(d.year, d.month, d.day)"
   ]
  }
 ],
 "metadata": {
  "interpreter": {
   "hash": "26de051ba29f2982a8de78e945f0abaf191376122a1563185a90213a26c5da77"
  },
  "kernelspec": {
   "display_name": "Python 3.10.4 64-bit",
   "language": "python",
   "name": "python3"
  },
  "language_info": {
   "name": "python",
   "version": "3.10.4"
  },
  "orig_nbformat": 4
 },
 "nbformat": 4,
 "nbformat_minor": 2
}
