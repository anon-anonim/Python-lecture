{
 "cells": [
  {
   "cell_type": "markdown",
   "metadata": {},
   "source": [
    "## **Задача 2**"
   ]
  },
  {
   "cell_type": "markdown",
   "metadata": {},
   "source": [
    "Вашей программе на вход подаются две строки **s** и **t**, состоящие из строчных латинских букв.  \n",
    "  \n",
    "Выведите одно число – количество вхождений строки **t** в строку **s**.  \n",
    "\n",
    "Пример:   \n",
    "*s = \"abababa\"* \n",
    "*t = \"aba\"*  \n",
    "\n",
    "Вхождения строки t в строку s:  \n",
    "**aba**baba  \n",
    "ab**aba**ba  \n",
    "abab**aba**  "
   ]
  },
  {
   "cell_type": "markdown",
   "metadata": {},
   "source": [
    "### Вывод"
   ]
  },
  {
   "cell_type": "markdown",
   "metadata": {},
   "source": [
    ">Sample Input 1:\n",
    "\n",
    "abababa  \n",
    "aba  \n",
    ">Sample Output 1:\n",
    "\n",
    "3  \n",
    ">Sample Input 2:\n",
    "\n",
    "abababa  \n",
    "abc  \n",
    ">Sample Output 2:\n",
    "\n",
    "0  \n",
    ">Sample Input 3:\n",
    "\n",
    "abc  \n",
    "abc  \n",
    ">Sample Output 3:\n",
    "\n",
    "1  \n",
    ">Sample Input 4:\n",
    "\n",
    "aaaaa  \n",
    "a  \n",
    ">Sample Output 4:\n",
    "\n",
    "5  "
   ]
  },
  {
   "cell_type": "markdown",
   "metadata": {},
   "source": [
    "## Решение"
   ]
  },
  {
   "cell_type": "code",
   "execution_count": null,
   "metadata": {},
   "outputs": [],
   "source": [
    "s,t = (input() for i in range(2))\n",
    "\n",
    "meter = 0\n",
    "while True:\n",
    "    if t in s:\n",
    "        if s.startswith(t) is True:\n",
    "            meter += 1\n",
    "            s = s[1:]\n",
    "        else:\n",
    "            s = s[1:]\n",
    "\n",
    "    else:\n",
    "        break\n",
    "\n",
    "print(meter)"
   ]
  },
  {
   "cell_type": "code",
   "execution_count": null,
   "metadata": {},
   "outputs": [],
   "source": [
    "# ---------------------------------------------------------- ---------------------------------------------------------- ---------------------\n",
    "# Chaos Group V -Ray 5 (Build 52.20.23) для 3DS Max 2016 - 2022\n",
    "# ------------------------------------------------- ---------------------------------------------------------- -----------------------\n",
    "\n",
    "\n",
    "# 0. Удалить vray_v50004_fix.dlr и vray_v50004_max_fix.dll\n",
    "# или любая другая трещина, как vray201x.dlr, vray_zzz201x.dll, fastvray.dlr, blackstorm.dlr и т. Д.\n",
    "\n",
    "\n",
    "# 1. Установите V-Ray. Нет необходимости устанавливать сервер лицензий (выберите удаленный вариант).\n",
    "\n",
    "\n",
    "\n",
    "# 2. Скопируйте vray_v52000_fix.dlr в плагины 3DSMAX (C: \\ Program Files \\ Autodesk \\ 3DS Max 20xx \\ Plugins)\n",
    "# Или в Vrayplugins Dir (C: \\ Program Files \\ Autodesk \\ 3DS MAX 20XX \\ Plugins \\ Vrayplugins)\n",
    "\n",
    "# 3. Скопируйте vray_v52000_max_fix.dll в плагины v-ray dir:\n",
    "# (C: \\ Program Files \\ Chaos Group \\ V-Ray \\ 3DS MAX 20XX \\ BIN \\ PLUGINS)\n",
    "\n",
    "# или же\n",
    "                             \n",
    "# C: \\ Program Files \\ CHAOS GROUP \\ V-Ray \\ 3DS MAX 20XX \\ SAMPLES \\ 3DSMAX_PLUGINS\n",
    "\n",
    "\n",
    "\n",
    "# В случае, если вы получите ошибку лицензии на рендеринг GPU (в основном в 2021/2022). Скопируйте оба файла на этом 2 пути:\n",
    "\n",
    "# C: \\ users \\ xxxxx \\ appdata \\ roaming \\ autodesk \\ applicationplugins \\ vray3dsmax20xx \\ bin и c: \\ users \\ xxxxxx \\ appdata \\ roaming \\ autodesk \\ applicationplugins \\ vray3dsmax2016 \\ bin \\ plugins\n",
    "# C: \\ Program Files \\ CHAOS GROUP \\ V-Ray \\ 3DS MAX 20XX \\ SAMPLES \\ 3DSMAX_PLUGINS\n",
    "\n",
    "# 4. Наслаждайтесь!\n",
    "\n",
    "\n",
    "\n",
    "\n",
    "\n",
    "# Если вы хотите использовать хаос космос:\n",
    "\n",
    "\n",
    "# Вы можете перейти к этому пути и запустить этот файл в качестве администратора.\n",
    "\n",
    "# C: \\ Program Files \\ Chaos Group \\ Chaos Cosmos \\ cbservice.exe\n",
    "\n",
    "# он запустит командную строку, и когда она остановится, вы можете ее закрыть\n",
    "\n",
    "# Теперь перейдите к 3DS Max, Open Cosmos Browser, войдите в группу Chaos или нет (иногда)\n",
    "\n",
    "# Наслаждайтесь космосом\n",
    "\n",
    "# Все загруженные модели и их текстуры будут храниться здесь\n",
    "\n",
    "# C: \\ users \\ {username} \\ documents \\ chaos cosmos \\ packages \\ 3d_models"
   ]
  }
 ],
 "metadata": {
  "interpreter": {
   "hash": "26de051ba29f2982a8de78e945f0abaf191376122a1563185a90213a26c5da77"
  },
  "kernelspec": {
   "display_name": "Python 3.10.4 64-bit",
   "language": "python",
   "name": "python3"
  },
  "language_info": {
   "codemirror_mode": {
    "name": "ipython",
    "version": 3
   },
   "file_extension": ".py",
   "mimetype": "text/x-python",
   "name": "python",
   "nbconvert_exporter": "python",
   "pygments_lexer": "ipython3",
   "version": "3.10.4"
  },
  "orig_nbformat": 4
 },
 "nbformat": 4,
 "nbformat_minor": 2
}
