{
 "cells": [
  {
   "cell_type": "markdown",
   "metadata": {},
   "source": [
    "## **Задача 2**"
   ]
  },
  {
   "cell_type": "markdown",
   "metadata": {},
   "source": [
    "Вашей программе на вход подаются две строки **s** и **t**, состоящие из строчных латинских букв.  \n",
    "  \n",
    "Выведите одно число – количество вхождений строки **t** в строку **s**.  \n",
    "\n",
    "Пример:   \n",
    "*s = \"abababa\"* \n",
    "*t = \"aba\"*  \n",
    "\n",
    "Вхождения строки t в строку s:  \n",
    "**aba**baba  \n",
    "ab**aba**ba  \n",
    "abab**aba**  "
   ]
  },
  {
   "cell_type": "markdown",
   "metadata": {},
   "source": [
    "### Вывод"
   ]
  },
  {
   "cell_type": "markdown",
   "metadata": {},
   "source": [
    ">Sample Input 1:\n",
    "\n",
    "abababa  \n",
    "aba  \n",
    ">Sample Output 1:\n",
    "\n",
    "3  \n",
    ">Sample Input 2:\n",
    "\n",
    "abababa  \n",
    "abc  \n",
    ">Sample Output 2:\n",
    "\n",
    "0  \n",
    ">Sample Input 3:\n",
    "\n",
    "abc  \n",
    "abc  \n",
    ">Sample Output 3:\n",
    "\n",
    "1  \n",
    ">Sample Input 4:\n",
    "\n",
    "aaaaa  \n",
    "a  \n",
    ">Sample Output 4:\n",
    "\n",
    "5  "
   ]
  },
  {
   "cell_type": "markdown",
   "metadata": {},
   "source": [
    "## Решение"
   ]
  },
  {
   "cell_type": "code",
   "execution_count": null,
   "metadata": {},
   "outputs": [],
   "source": [
    "s,t = (input() for i in range(2))\n",
    "\n",
    "meter = 0\n",
    "while True:\n",
    "    if t in s:\n",
    "        if s.startswith(t) is True:\n",
    "            meter += 1\n",
    "            s = s[1:]\n",
    "        else:\n",
    "            s = s[1:]\n",
    "\n",
    "    else:\n",
    "        break\n",
    "\n",
    "print(meter)"
   ]
  }
 ],
 "metadata": {
  "interpreter": {
   "hash": "26de051ba29f2982a8de78e945f0abaf191376122a1563185a90213a26c5da77"
  },
  "kernelspec": {
   "display_name": "Python 3.10.4 64-bit",
   "language": "python",
   "name": "python3"
  },
  "language_info": {
   "codemirror_mode": {
    "name": "ipython",
    "version": 3
   },
   "file_extension": ".py",
   "mimetype": "text/x-python",
   "name": "python",
   "nbconvert_exporter": "python",
   "pygments_lexer": "ipython3",
   "version": "3.10.4"
  },
  "orig_nbformat": 4
 },
 "nbformat": 4,
 "nbformat_minor": 2
}
