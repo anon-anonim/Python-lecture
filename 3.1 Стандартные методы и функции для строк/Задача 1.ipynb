{
 "cells": [
  {
   "cell_type": "markdown",
   "metadata": {},
   "source": [
    "Вашей программе на вход подаются три строки *s*, *a*, *b*, состоящие из строчных латинских букв.  \n",
    "За одну операцию вы можете заменить все вхождения строки a в строку *s* на строку *b*.  \n",
    "  \n",
    "Например, *s = \"abab\"*, *a = \"ab\"*, *b = \"ba\"*, тогда после выполнения одной операции строка *s* перейдет в строку *\"baba\"*, после выполнения двух и операций – в строку *\"bbaa\"*, и дальнейшие операции не будут изменять строку *s*.  \n",
    "\n",
    "Необходимо узнать, после какого минимального количества операций в строке *s* не останется вхождений строки *a*. Если операций потребуется более *1000*, выведите *Impossible*.  \n",
    "  \n",
    "Выведите одно число – минимальное число операций, после применения которых в строке *s* не останется вхождений строки *a*, или *Impossible*, если операций потребуется более *1000*.  "
   ]
  },
  {
   "cell_type": "markdown",
   "metadata": {},
   "source": [
    ">Sample Input 1:\n",
    "\n",
    "ababa  \n",
    "  a  \n",
    "  b  \n",
    ">Sample Output 1:\n",
    "\n",
    "  1\n",
    ">Sample Input 2:\n",
    "\n",
    "  ababa  \n",
    "  b  \n",
    "  a  \n",
    ">Sample Output 2:\n",
    "\n",
    "  1  \n",
    ">Sample Input 3:\n",
    "\n",
    "  ababa  \n",
    "  c  \n",
    "  c  \n",
    ">Sample Output 3:\n",
    "\n",
    "  0  \n",
    ">Sample Input 4:\n",
    "\n",
    "  ababac  \n",
    "  c  \n",
    "  c  \n",
    ">Sample Output 4:\n",
    "\n",
    "  Impossible  "
   ]
  },
  {
   "cell_type": "markdown",
   "metadata": {},
   "source": [
    "## **Решение**"
   ]
  },
  {
   "cell_type": "code",
   "execution_count": null,
   "metadata": {},
   "outputs": [],
   "source": [
    "s,a,b = (input() for i in range(3))\n",
    "\n",
    "metaer = 0\n",
    "check = True\n",
    "\n",
    "def replaser():\n",
    "\tglobal metaer, check,s,a,b\n",
    "\tif a in s:\n",
    "\t\ts = s.replace(a, b)\n",
    "\t\tmetaer += 1\n",
    "\t\treturn s\n",
    "\telse:\n",
    "\t\tcheck = False\n",
    "\t\treturn check\n",
    "\n",
    "\n",
    "while True :\n",
    "\tif check == False:\n",
    "\t\tprint(metaer)\n",
    "\t\tbreak\n",
    "\telif 1000 > metaer:\n",
    "\t\treplaser()\n",
    "\telse:\n",
    "\t\tprint('Impossible')\n",
    "\t\tbreak"
   ]
  }
 ],
 "metadata": {
  "interpreter": {
   "hash": "26de051ba29f2982a8de78e945f0abaf191376122a1563185a90213a26c5da77"
  },
  "kernelspec": {
   "display_name": "Python 3.10.4 64-bit",
   "language": "python",
   "name": "python3"
  },
  "language_info": {
   "codemirror_mode": {
    "name": "ipython",
    "version": 3
   },
   "file_extension": ".py",
   "mimetype": "text/x-python",
   "name": "python",
   "nbconvert_exporter": "python",
   "pygments_lexer": "ipython3",
   "version": "3.10.4"
  },
  "orig_nbformat": 4
 },
 "nbformat": 4,
 "nbformat_minor": 2
}
