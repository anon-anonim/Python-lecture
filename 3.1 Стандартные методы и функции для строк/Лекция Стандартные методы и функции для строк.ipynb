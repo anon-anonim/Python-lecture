{
 "cells": [
  {
   "cell_type": "markdown",
   "metadata": {},
   "source": [
    "## **Стандартные методы и функции для строк**"
   ]
  },
  {
   "cell_type": "code",
   "execution_count": 1,
   "metadata": {},
   "outputs": [
    {
     "name": "stdout",
     "output_type": "stream",
     "text": [
      "True\n",
      "False\n"
     ]
    }
   ],
   "source": [
    "print(\"abc\" in \"abcd\")\n",
    "print(\"abc\" in \"abscd\")"
   ]
  },
  {
   "cell_type": "code",
   "execution_count": 4,
   "metadata": {},
   "outputs": [
    {
     "name": "stdout",
     "output_type": "stream",
     "text": [
      "2\n"
     ]
    }
   ],
   "source": [
    "print(\"cafg\".find(\"f\"))"
   ]
  },
  {
   "cell_type": "code",
   "execution_count": 5,
   "metadata": {},
   "outputs": [
    {
     "name": "stdout",
     "output_type": "stream",
     "text": [
      "S.find(sub[, start[, end]]) -> int\n",
      "\n",
      "Return the lowest index in S where substring sub is found,\n",
      "such that sub is contained within S[start:end].  Optional\n",
      "arguments start and end are interpreted as in slice notation.\n",
      "\n",
      "Return -1 on failure.\n"
     ]
    }
   ],
   "source": [
    "print(str.find.__doc__)"
   ]
  },
  {
   "cell_type": "code",
   "execution_count": null,
   "metadata": {},
   "outputs": [],
   "source": [
    "\"\"\"\n",
    "\n",
    "S.find(sub[, start[, end]]) -> int\n",
    "\n",
    "Вернуть самый низкий индекс в s, где находится подстроение подстроения,\n",
    "Такое, что Sub содержится в s [start: end].По желанию\n",
    "Аргументы начинаются и конец интерпретируются как в срезах.\n",
    "\n",
    "Возврат -1 при неудаче.\n",
    "\n",
    "\"\"\""
   ]
  },
  {
   "cell_type": "code",
   "execution_count": 7,
   "metadata": {},
   "outputs": [
    {
     "name": "stdout",
     "output_type": "stream",
     "text": [
      "0\n"
     ]
    }
   ],
   "source": [
    "print(\"cafg\"[2:].find(\"f\"))"
   ]
  },
  {
   "cell_type": "code",
   "execution_count": 8,
   "metadata": {},
   "outputs": [
    {
     "name": "stdout",
     "output_type": "stream",
     "text": [
      "1\n"
     ]
    }
   ],
   "source": [
    "print(\"cabc\".index(\"abc\"))"
   ]
  },
  {
   "cell_type": "code",
   "execution_count": 9,
   "metadata": {},
   "outputs": [
    {
     "ename": "ValueError",
     "evalue": "substring not found",
     "output_type": "error",
     "traceback": [
      "\u001b[1;31m---------------------------------------------------------------------------\u001b[0m",
      "\u001b[1;31mValueError\u001b[0m                                Traceback (most recent call last)",
      "\u001b[1;32mc:\\Users\\anona\\OneDrive\\Документы\\Обучение\\Phyton\\[stepik]  Python основы и применение\\3.1 Стандартные методы и функции для строк\\Лекция Стандартные методы и функции для строк.ipynb Cell 8'\u001b[0m in \u001b[0;36m<cell line: 1>\u001b[1;34m()\u001b[0m\n\u001b[1;32m----> <a href='vscode-notebook-cell:/c%3A/Users/anona/OneDrive/%D0%94%D0%BE%D0%BA%D1%83%D0%BC%D0%B5%D0%BD%D1%82%D1%8B/%D0%9E%D0%B1%D1%83%D1%87%D0%B5%D0%BD%D0%B8%D0%B5/Phyton/%5Bstepik%5D%20%20Python%20%D0%BE%D1%81%D0%BD%D0%BE%D0%B2%D1%8B%20%D0%B8%20%D0%BF%D1%80%D0%B8%D0%BC%D0%B5%D0%BD%D0%B5%D0%BD%D0%B8%D0%B5/3.1%20%D0%A1%D1%82%D0%B0%D0%BD%D0%B4%D0%B0%D1%80%D1%82%D0%BD%D1%8B%D0%B5%20%D0%BC%D0%B5%D1%82%D0%BE%D0%B4%D1%8B%20%D0%B8%20%D1%84%D1%83%D0%BD%D0%BA%D1%86%D0%B8%D0%B8%20%D0%B4%D0%BB%D1%8F%20%D1%81%D1%82%D1%80%D0%BE%D0%BA/%D0%9B%D0%B5%D0%BA%D1%86%D0%B8%D1%8F%20%D0%A1%D1%82%D0%B0%D0%BD%D0%B4%D0%B0%D1%80%D1%82%D0%BD%D1%8B%D0%B5%20%D0%BC%D0%B5%D1%82%D0%BE%D0%B4%D1%8B%20%D0%B8%20%D1%84%D1%83%D0%BD%D0%BA%D1%86%D0%B8%D0%B8%20%D0%B4%D0%BB%D1%8F%20%D1%81%D1%82%D1%80%D0%BE%D0%BA.ipynb#ch0000007?line=0'>1</a>\u001b[0m \u001b[39mprint\u001b[39m(\u001b[39m\"\u001b[39;49m\u001b[39mcabc\u001b[39;49m\u001b[39m\"\u001b[39;49m\u001b[39m.\u001b[39;49mindex(\u001b[39m\"\u001b[39;49m\u001b[39mxxx\u001b[39;49m\u001b[39m\"\u001b[39;49m))\n",
      "\u001b[1;31mValueError\u001b[0m: substring not found"
     ]
    }
   ],
   "source": [
    "print(\"cabc\".index(\"xxx\"))"
   ]
  },
  {
   "cell_type": "code",
   "execution_count": 11,
   "metadata": {},
   "outputs": [
    {
     "name": "stdout",
     "output_type": "stream",
     "text": [
      "True\n"
     ]
    }
   ],
   "source": [
    "text = \"The Man Who Sold the World\"\n",
    "\n",
    "print(text.startswith(\"The Man Who\"))"
   ]
  },
  {
   "cell_type": "code",
   "execution_count": 13,
   "metadata": {},
   "outputs": [
    {
     "name": "stdout",
     "output_type": "stream",
     "text": [
      "S.startswith(prefix[, start[, end]]) -> bool\n",
      "\n",
      "Return True if S starts with the specified prefix, False otherwise.\n",
      "With optional start, test S beginning at that position.\n",
      "With optional end, stop comparing S at that position.\n",
      "prefix can also be a tuple of strings to try.\n"
     ]
    }
   ],
   "source": [
    "print(str.startswith.__doc__)\n",
    "\n",
    "'''\n",
    "S.startswith(prefix[, start[, end]]) -> bool\n",
    "\n",
    "Верните True, если S начинается с указанного префикса, false в противном случае.\n",
    "С необязательным стартом тест S, начинающийся в этой позиции.\n",
    "С необязательным концом, перестаньте сравнивать S в этой позиции.\n",
    "Префикс также может быть кортежом струн, чтобы попробовать.\n",
    "\n",
    "'''"
   ]
  },
  {
   "cell_type": "code",
   "execution_count": 14,
   "metadata": {},
   "outputs": [
    {
     "name": "stdout",
     "output_type": "stream",
     "text": [
      "True\n"
     ]
    }
   ],
   "source": [
    "text = \"The Man Who Sold the World\"\n",
    "\n",
    "print(text.startswith((\"The Man Who\",\"the World\")))"
   ]
  },
  {
   "cell_type": "code",
   "execution_count": 16,
   "metadata": {},
   "outputs": [
    {
     "name": "stdout",
     "output_type": "stream",
     "text": [
      "True\n"
     ]
    }
   ],
   "source": [
    "image = \"image.png\"\n",
    "\n",
    "print(image.endswith(\".png\"))"
   ]
  },
  {
   "cell_type": "code",
   "execution_count": 17,
   "metadata": {},
   "outputs": [
    {
     "name": "stdout",
     "output_type": "stream",
     "text": [
      "S.endswith(suffix[, start[, end]]) -> bool\n",
      "\n",
      "Return True if S ends with the specified suffix, False otherwise.\n",
      "With optional start, test S beginning at that position.\n",
      "With optional end, stop comparing S at that position.\n",
      "suffix can also be a tuple of strings to try.\n"
     ]
    }
   ],
   "source": [
    "print(str.endswith.__doc__)\n",
    "\n",
    "'''\n",
    "S.endswith(suffix[, start[, end]]) -> bool\n",
    "\n",
    "Верните True, если S заканчивается указанным суффиксом, неверно.\n",
    "С необязательным стартом тест S, начинающийся в этой позиции.\n",
    "С необязательным концом, перестаньте сравнивать S в этой позиции.\n",
    "Суффикс также может быть кортежом струн, чтобы попробовать.\n",
    "\n",
    "'''"
   ]
  },
  {
   "cell_type": "code",
   "execution_count": 18,
   "metadata": {},
   "outputs": [
    {
     "name": "stdout",
     "output_type": "stream",
     "text": [
      "3\n"
     ]
    }
   ],
   "source": [
    "str = \"abcaba\"\n",
    "\n",
    "print(str.rfind(\"aba\")) #обратная функция"
   ]
  },
  {
   "cell_type": "code",
   "execution_count": 23,
   "metadata": {},
   "outputs": [
    {
     "name": "stdout",
     "output_type": "stream",
     "text": [
      "the man who sold the world\n",
      "THE MAN WHO SOLD THE WORLD\n",
      "1\n",
      "2\n"
     ]
    }
   ],
   "source": [
    "text = \"The Man Who Sold the World\"\n",
    "\n",
    "print(text.lower())\n",
    "print(text.upper())\n",
    "print(text.count(\"the\"))\n",
    "print(text.lower().count(\"the\"))"
   ]
  },
  {
   "cell_type": "code",
   "execution_count": 26,
   "metadata": {},
   "outputs": [
    {
     "name": "stdout",
     "output_type": "stream",
     "text": [
      "1,2,3,4,5\n",
      "1, 2, 3, 4, 5\n",
      "1, 2, 3,4,5\n"
     ]
    }
   ],
   "source": [
    "number_set =\"1,2,3,4,5\"\n",
    "\n",
    "print(number_set)\n",
    "print(number_set.replace(\",\", \", \"))\n",
    "print(number_set.replace(\",\", \", \", 2))"
   ]
  },
  {
   "cell_type": "code",
   "execution_count": 28,
   "metadata": {},
   "outputs": [
    {
     "name": "stdout",
     "output_type": "stream",
     "text": [
      "['1', '2', '3', '4', '5']\n",
      "['1', '2', '3,4,5']\n"
     ]
    }
   ],
   "source": [
    "number_set =\"1,2,3,4,5\"\n",
    "print(number_set.split(\",\"))\n",
    "\n",
    "print(number_set.split(\",\", 2))"
   ]
  },
  {
   "cell_type": "code",
   "execution_count": 30,
   "metadata": {},
   "outputs": [
    {
     "name": "stdout",
     "output_type": "stream",
     "text": [
      "['1', '2', '3', '4', '5']\n"
     ]
    }
   ],
   "source": [
    "number_incorrect_set = \"1 2   3       4  \\t \\n 5\"\n",
    "\n",
    "print(number_incorrect_set.split())"
   ]
  },
  {
   "cell_type": "code",
   "execution_count": 37,
   "metadata": {},
   "outputs": [
    {
     "name": "stdout",
     "output_type": "stream",
     "text": [
      "['1,', '2,', '3,', '4,', '5']\n"
     ]
    }
   ],
   "source": [
    "set_ = ' 1, 2, 3, 4, 5     '\n",
    "\n",
    "print(repr(set_.rsplit()))\n"
   ]
  },
  {
   "cell_type": "code",
   "execution_count": 38,
   "metadata": {},
   "outputs": [
    {
     "name": "stdout",
     "output_type": "stream",
     "text": [
      "['1,', '2,', '3,', '4,', '5']\n"
     ]
    }
   ],
   "source": [
    "print(repr(set_.rsplit()))\n"
   ]
  },
  {
   "cell_type": "code",
   "execution_count": 39,
   "metadata": {},
   "outputs": [
    {
     "name": "stdout",
     "output_type": "stream",
     "text": [
      "['1,', '2,', '3,', '4,', '5']\n"
     ]
    }
   ],
   "source": [
    "print(repr(set_.split()))"
   ]
  },
  {
   "cell_type": "code",
   "execution_count": 34,
   "metadata": {},
   "outputs": [
    {
     "name": "stdout",
     "output_type": "stream",
     "text": [
      "['', '_ 1, 2, 3, 4, 5     _', '']\n"
     ]
    }
   ],
   "source": [
    "set_ = '_*__ 1, 2, 3, 4, 5     __*_'\n",
    "\n",
    "print(repr(set_.rsplit(\"_*_\")))\n"
   ]
  },
  {
   "cell_type": "code",
   "execution_count": 35,
   "metadata": {},
   "outputs": [
    {
     "name": "stdout",
     "output_type": "stream",
     "text": [
      "['', '_ 1, 2, 3, 4, 5     _', '']\n"
     ]
    }
   ],
   "source": [
    "print(repr(set_.rsplit(\"_*_\")))\n"
   ]
  },
  {
   "cell_type": "code",
   "execution_count": 36,
   "metadata": {},
   "outputs": [
    {
     "name": "stdout",
     "output_type": "stream",
     "text": [
      "['', '_ 1, 2, 3, 4, 5     _', '']\n"
     ]
    }
   ],
   "source": [
    "print(repr(set_.split(\"_*_\")))"
   ]
  },
  {
   "cell_type": "code",
   "execution_count": null,
   "metadata": {},
   "outputs": [],
   "source": [
    "numb = map(str, [1, 2, 3, 4, 5])\n",
    "print(repr(\" \".join(numb)))\n",
    "\n",
    "# '1 2 3 4 5'"
   ]
  },
  {
   "cell_type": "markdown",
   "metadata": {},
   "source": [
    "### Форматирование"
   ]
  },
  {
   "cell_type": "code",
   "execution_count": 48,
   "metadata": {},
   "outputs": [
    {
     "name": "stdout",
     "output_type": "stream",
     "text": [
      "London is the capital of Great Britain\n",
      "Vaduz is the capital of Lichtenstein\n"
     ]
    }
   ],
   "source": [
    "capital = 'London is the capital of Great Britain'\n",
    "template = '{} is the capital of {}'\n",
    "\n",
    "print(template.format(\"London\", \"Great Britain\"))\n",
    "print(template.format(\"Vaduz\", \"Lichtenstein\"))\n",
    "\n",
    "\n"
   ]
  },
  {
   "cell_type": "code",
   "execution_count": 49,
   "metadata": {},
   "outputs": [
    {
     "name": "stdout",
     "output_type": "stream",
     "text": [
      "S.format(*args, **kwargs) -> str\n",
      "\n",
      "Return a formatted version of S, using substitutions from args and kwargs.\n",
      "The substitutions are identified by braces ('{' and '}').\n"
     ]
    }
   ],
   "source": [
    "print(template.format.__doc__)\n",
    "\n",
    "'''\n",
    "S.format(*args, **kwargs) -> str\n",
    "\n",
    "Верните отформатированную версию S, используя замены из Args и Kwargs.\n",
    "Замены идентифицированы скобками ('{' и '}').\n",
    "\n",
    "'''"
   ]
  },
  {
   "cell_type": "code",
   "execution_count": 53,
   "metadata": {},
   "outputs": [
    {
     "name": "stdout",
     "output_type": "stream",
     "text": [
      "Great Britain is the capital of London\n"
     ]
    }
   ],
   "source": [
    "template_1 = '{1} is the capital of {0}'\n",
    "\n",
    "print(template_1.format(\"London\", \"Great Britain\"))"
   ]
  },
  {
   "cell_type": "code",
   "execution_count": 54,
   "metadata": {},
   "outputs": [
    {
     "name": "stdout",
     "output_type": "stream",
     "text": [
      "London is the capital of Great Britain\n"
     ]
    }
   ],
   "source": [
    "template_2 = '{capital} is the capital of {country}'\n",
    "\n",
    "print(template_2.format(capital=\"London\", country=\"Great Britain\"))"
   ]
  },
  {
   "cell_type": "code",
   "execution_count": 56,
   "metadata": {},
   "outputs": [
    {
     "name": "stdout",
     "output_type": "stream",
     "text": [
      "Response from https://docs.python.org/3.5/ with code 200\n",
      "Response from https://docs.python.org/3.5/random with code 404\n"
     ]
    }
   ],
   "source": [
    "import requests\n",
    "\n",
    "\n",
    "template_3 = \"Response from {0.url} with code {0.status_code}\"\n",
    "\n",
    "res = requests.get(\"https://docs.python.org/3.5/\")\n",
    "print(template_3.format(res))\n",
    "\n",
    "res = requests.get(\"https://docs.python.org/3.5/random\")\n",
    "print(template_3.format(res))"
   ]
  },
  {
   "cell_type": "code",
   "execution_count": 70,
   "metadata": {},
   "outputs": [
    {
     "name": "stdout",
     "output_type": "stream",
     "text": [
      "0.9553239223682117\n",
      "0.955\n"
     ]
    }
   ],
   "source": [
    "from random import random\n",
    "x = random()\n",
    "print(x)\n",
    "print(\"{:.3}\".format(x))"
   ]
  }
 ],
 "metadata": {
  "interpreter": {
   "hash": "26de051ba29f2982a8de78e945f0abaf191376122a1563185a90213a26c5da77"
  },
  "kernelspec": {
   "display_name": "Python 3.10.4 64-bit",
   "language": "python",
   "name": "python3"
  },
  "language_info": {
   "codemirror_mode": {
    "name": "ipython",
    "version": 3
   },
   "file_extension": ".py",
   "mimetype": "text/x-python",
   "name": "python",
   "nbconvert_exporter": "python",
   "pygments_lexer": "ipython3",
   "version": "3.10.4"
  },
  "orig_nbformat": 4
 },
 "nbformat": 4,
 "nbformat_minor": 2
}
