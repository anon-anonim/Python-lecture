{
 "cells": [
  {
   "cell_type": "markdown",
   "metadata": {},
   "source": [
    "# **Задача 1**"
   ]
  },
  {
   "cell_type": "markdown",
   "metadata": {},
   "source": [
    "Рассмотрим два HTML-документа **A** и **B**.  \n",
    "Из **A** можно перейти в **B** за один переход, если в **A** есть ссылка на **B**, т. е. внутри A есть тег **`<a href=\"B\">`** возможно с дополнительными параметрами внутри тега.  \n",
    "Из **A** можно перейти в **B** за два перехода если существует такой документ **C**, что из **A** в **C** можно перейти за один переход и из **C** в B можно перейти за один переход.  \n",
    "  \n",
    "Вашей программе на вход подаются две строки, содержащие *url* двух документов **A** и **B**.  \n",
    "Выведите *Yes*, если из A в B можно перейти за два перехода, иначе выведите *No*.  \n",
    "  \n",
    "Обратите внимание на то, что не все ссылки внутри HTML документа могут вести на существующие HTML документы.  "
   ]
  },
  {
   "cell_type": "markdown",
   "metadata": {},
   "source": [
    ">Sample Input 1:  \n",
    "\n",
    "`https://stepic.org/media/attachments/lesson/24472/sample0.html`  \n",
    "`https://stepic.org/media/attachments/lesson/24472/sample2.html`  \n",
    ">Sample Output 1:  \n",
    "\n",
    "*Yes*\n",
    ">Sample Input 2:  \n",
    "\n",
    "`https://stepic.org/media/attachments/lesson/24472/sample0.html`  \n",
    "`https://stepic.org/media/attachments/lesson/24472/sample1.html`  \n",
    ">Sample Output 2:  \n",
    "  \n",
    "*No*\n",
    ">Sample Input 3:  \n",
    "  \n",
    "`https://stepic.org/media/attachments/lesson/24472/sample1.html`  \n",
    "`https://stepic.org/media/attachments/lesson/24472/sample2.html`  \n",
    ">Sample Output 3:  \n",
    "\n",
    "*Yes*  "
   ]
  },
  {
   "cell_type": "markdown",
   "metadata": {},
   "source": [
    "## **Решение**"
   ]
  },
  {
   "cell_type": "code",
   "execution_count": null,
   "metadata": {},
   "outputs": [],
   "source": [
    "import requests as req\n",
    "import re\n",
    "\n",
    "def get_url_list(samle_text):\n",
    "    pattern = r\"https://.*?\\.html\"\n",
    "    find_text = re.findall(pattern,samle_text)\n",
    "    return find_text\n",
    "\n",
    "def get_request(Link):\n",
    "    rqust = (req.get(Link)).text\n",
    "    return rqust\n",
    "\n",
    "start_link= input()\n",
    "target_link = input()\n",
    "status = \"No\"\n",
    "\n",
    "for url in (get_url_list(get_request(start_link))):\n",
    "    if target_link in (get_url_list(get_request(url))) :\n",
    "        status =\"Yes\"\n",
    "        break\n",
    "\n",
    "print(status)"
   ]
  },
  {
   "cell_type": "markdown",
   "metadata": {},
   "source": [
    "## **Решение Stepic**"
   ]
  },
  {
   "cell_type": "code",
   "execution_count": null,
   "metadata": {},
   "outputs": [],
   "source": [
    "import requests\n",
    "import re\n",
    "\n",
    "def test(a, b):\n",
    "    for f in re.findall(r'<a href=\"(.*)\">', requests.get(a).text):\n",
    "        if b in re.findall(r'<a href=\"(.*)\">', requests.get(f).text):\n",
    "            return 'Yes'\n",
    "    return 'No'\n",
    "\n",
    "print(test(input(), input()))"
   ]
  }
 ],
 "metadata": {
  "language_info": {
   "name": "python"
  },
  "orig_nbformat": 4
 },
 "nbformat": 4,
 "nbformat_minor": 2
}
