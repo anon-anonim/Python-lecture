{
 "cells": [
  {
   "cell_type": "markdown",
   "metadata": {},
   "source": [
    "# **Обзорно об интернете**"
   ]
  },
  {
   "cell_type": "markdown",
   "metadata": {},
   "source": [
    "## **http-запросы**"
   ]
  },
  {
   "cell_type": "markdown",
   "metadata": {},
   "source": [
    "URL - единообразный локатор ресурсов  \n",
    "  \n",
    "![](../Paste_image/2022-06-06-11-55-40.png)"
   ]
  },
  {
   "cell_type": "markdown",
   "metadata": {},
   "source": [
    "![](../Paste_image/2022-06-06-11-57-55.png)"
   ]
  },
  {
   "cell_type": "markdown",
   "metadata": {},
   "source": [
    "Методы http:  \n",
    "**get** получить ресурс  \n",
    "**post** изменить ресурс  \n",
    "\n",
    "Статус коды:  \n",
    "**200 404 500 ....**\n",
    "\n",
    "\n"
   ]
  },
  {
   "cell_type": "markdown",
   "metadata": {},
   "source": [
    "## **HTML**"
   ]
  },
  {
   "cell_type": "markdown",
   "metadata": {},
   "source": [
    "**HTML** *(от англ. HyperText Markup Language — «язык гипертекстовой разметки»)* — стандартизированный язык гипертекстовой разметки документов для просмотра веб-страниц в браузере. Веб-браузеры получают HTML документ от сервера по протоколам *HTTP/HTTPS* или открывают с локального диска, далее интерпретируют код в интерфейс, который будет отображаться на экране монитора.  "
   ]
  },
  {
   "cell_type": "markdown",
   "metadata": {},
   "source": [
    "## Работа с библиотекой **requests**"
   ]
  },
  {
   "cell_type": "code",
   "execution_count": null,
   "metadata": {},
   "outputs": [],
   "source": [
    "import requests as req\n",
    "\n",
    "res = req.get(\"https://docs.python.org/3.5/\")\n",
    "print(res.status_code)\n",
    "print(res.headers['Content-Type'])"
   ]
  },
  {
   "cell_type": "code",
   "execution_count": null,
   "metadata": {},
   "outputs": [],
   "source": [
    "print(res.text)"
   ]
  },
  {
   "cell_type": "code",
   "execution_count": 1,
   "metadata": {},
   "outputs": [],
   "source": [
    "import requests as req\n",
    "\n",
    "res = req.get(\"https://docs.python.org/3.5/_static/py.png\")\n",
    "print(res.status_code)\n",
    "print(res.headers('Content-Type'))\n"
   ]
  },
  {
   "cell_type": "code",
   "execution_count": 2,
   "metadata": {},
   "outputs": [],
   "source": [
    "with open (\"python.png\", \"wb\") as png:\n",
    "    png.write(res.content)"
   ]
  },
  {
   "cell_type": "code",
   "execution_count": 5,
   "metadata": {},
   "outputs": [
    {
     "name": "stdout",
     "output_type": "stream",
     "text": [
      "200\n",
      "https://yandex.ru/showcaptcha?cc=1&retpath=aHR0cHM6Ly95YW5kZXgucnUvc2VhcmNoP3RleHQ9U3RlcGljJnRlc3Q9dGVzdDEmbmFtZT1OYW1lK1dpdGgrU3BhY2VzJmxpc3Q9dGVzdDEmbGlzdD10ZXN0Mg%2C%2C_f8ace203917707b275965735ba829239&t=2/1654509269/6a63a83ff512817dea2bfc2c038c35fd&u=eeaa0195-11594766-5e33508-342de0f0&s=1521b9c2dcab0d026a8f729ccf8f0f20\n",
      "<!doctype html><html prefix=\"og: http://ogp.me/ns#\"><meta http-equiv=\"X-UA-Compatible\" content=\"IE=edge\"><meta charset=\"utf-8\"><meta name=\"viewport\" content=\"width=device-width,initial-scale=1\"><title data-react-helmet=\"true\">ÐÐ¹!</title><meta data-react-helmet=\"true\" property=\"og:title\" content=\"Ð¯Ð½Ð´ÐµÐºÑ\"><meta data-react-helmet=\"true\" property=\"og:description\" content=\"ÐÐ°Ð¹Ð´ÑÑÑÑ Ð²ÑÑ\"><meta data-react-helmet=\"true\" property=\"og:image\" content=\"https://yastatic.net/s3/home/logos/share/share-logo-ru.png\"><link rel=\"stylesheet\" href=\"/captcha_smart.min.css?k=1632998364813\"><div id=\"root\"><div class=\"Theme Theme_color_yandex-default Theme_root_default\"><div class=\"Container\"><div class=\"Spacer\" style=\"padding-bottom:40px\"><a href=\"https://www.yandex.ru\" title=\"Ð¯Ð½Ð´ÐµÐºÑ\" class=\"Link Link_view_default LogoLink\"><svg width=\"86\" height=\"36\" viewBox=\"0 0 86 36\"><path d=\"M45.983 28.888H44.385L44.377 11.578H35.027V13.274C35.027 18.556 34.835 24.67 32.997 28.888H31.758V35.313H34.555V31.41H43.186V35.313H45.983V28.888ZM58.798 27.758C57.999 28.309 56.601 29.098 54.842 29.098C52.365 29.098 51.086 26.732 51.086 22.238H59.477V20.544C59.477 13.804 57.28 11.32 53.923 11.32C49.648 11.32 47.85 15.971 47.85 22.357C47.85 28.467 50.407 31.739 54.563 31.739C56.561 31.739 58.239 31.108 59.517 30.122L58.798 27.757V27.758ZM26.765 11.572V20.052H22.13V11.572H19.013V31.44H22.13V22.478H26.765V31.44H29.841V11.573H26.765V11.572ZM71.123 31.435H74.519L68.805 20.91L73.8 11.568H70.643L65.808 20.752V11.57H62.692V31.437H65.808V21.543L71.123 31.437V31.435ZM86.02 30.19L85.3 27.904C84.581 28.534 83.423 29.126 81.904 29.126C79.387 29.126 78.188 26.288 78.188 21.321C78.188 16.315 79.786 13.831 82.024 13.831C83.303 13.831 84.501 14.501 85.341 15.211L85.781 12.294C84.901 11.742 83.862 11.269 82.064 11.269C77.349 11.269 74.912 15.251 74.912 21.479C74.912 28.259 77.509 31.689 81.824 31.689C83.662 31.689 84.941 31.097 86.02 30.19ZM41.304 28.991H35.95C37.628 24.773 37.828 18.664 37.828 14.485V14.13H41.304V28.991ZM53.931 13.894C55.729 13.894 56.289 16.377 56.289 19.767H51.134C51.334 16.22 52.014 13.894 53.931 13.894Z\" fill=\"black\"></path><path d=\"M11.892 20.85V31.375H14.969V3.52698H10.374C5.85802 3.52698 2.06202 6.42198 2.06202 12.335C2.06202 16.553 3.74002 18.839 6.25802 20.1L0.903015 31.375H4.46002L9.33502 20.849H11.892V20.85ZM11.898 18.393H10.26C7.58302 18.393 5.38502 16.935 5.38502 12.402C5.38502 7.71098 7.78302 6.09498 10.26 6.09498H11.898V18.393Z\" fill=\"#FF0000\"></path></svg></a></div><div class=\"Spacer\" style=\"padding-bottom:16px\"><span class=\"Text Text_weight_medium Text_typography_headline-s\">ÐÐ¾Ð´ÑÐ²ÐµÑÐ´Ð¸ÑÐµ, ÑÑÐ¾ Ð·Ð°Ð¿ÑÐ¾ÑÑ Ð¾ÑÐ¿ÑÐ°Ð²Ð»ÑÐ»Ð¸ Ð²Ñ, Ð° Ð½Ðµ ÑÐ¾Ð±Ð¾Ñ</span></div><span class=\"Text Text_weight_regular Text_typography_body-long-m\">ÐÐ°Ð¼ Ð¾ÑÐµÐ½Ñ Ð¶Ð°Ð»Ñ, Ð½Ð¾ Ð·Ð°Ð¿ÑÐ¾ÑÑ Ñ Ð²Ð°ÑÐµÐ³Ð¾ ÑÑÑÑÐ¾Ð¹ÑÑÐ²Ð° Ð¿Ð¾ÑÐ¾Ð¶Ð¸ Ð½Ð° Ð°Ð²ÑÐ¾Ð¼Ð°ÑÐ¸ÑÐµÑÐºÐ¸Ðµ.Â <a href=\"https://yandex.ru/support/smart-captcha\" class=\"Link Link_view_default\">ÐÐ¾ÑÐµÐ¼Ñ ÑÑÐ¾ Ð¼Ð¾Ð³Ð»Ð¾ Ð¿ÑÐ¾Ð¸Ð·Ð¾Ð¹ÑÐ¸?</a></span><div class=\"Spacer Spacer_auto-gap_bottom\" style=\"padding-top:40px;padding-bottom:40px\"><div class=\"CheckboxCaptcha\" data-testid=\"checkbox-captcha\"><form method=\"POST\" action=\"/checkcaptcha?key=3e9e5165-19e0bbe2-963fe7ed-b70d6510_2%2F1654509269%2F6a63a83ff512817dea2bfc2c038c35fd_b6307c3ebe31dff720130291f2d50a89&retpath=aHR0cHM6Ly95YW5kZXgucnUvc2VhcmNoP3RleHQ9U3RlcGljJnRlc3Q9dGVzdDEmbmFtZT1OYW1lK1dpdGgrU3BhY2VzJmxpc3Q9dGVzdDEmbGlzdD10ZXN0Mg%2C%2C_f8ace203917707b275965735ba829239&u=eeaa0195-11594766-5e33508-342de0f0\" class=\"CheckboxCaptcha-Form\"><div class=\"CheckboxCaptcha-Inner\"><div class=\"CheckboxCaptcha-Anchor\"><input type=\"submit\" class=\"CheckboxCaptcha-Button\"><div class=\"CheckboxCaptcha-Checkbox\" aria-checked=\"false\"><svg class=\"SvgIcon\" width=\"24\" height=\"24\" viewBox=\"0 0 24 25\" fill=\"none\"><path d=\"M4 12.5L9.5 18.5L20 6.5\" stroke=\"#000\" stroke-width=\"3\" stroke-linecap=\"round\" stroke-linejoin=\"round\"></path></svg></div></div><div class=\"CheckboxCaptcha-Label\"><span class=\"Text Text_weight_regular Text_typography_control-xxl CheckboxCaptcha-LabelText\">Ð¯ Ð½Ðµ ÑÐ¾Ð±Ð¾Ñ</span><span class=\"Text Text_color_control-secondary Text_weight_regular Text_typography_control-l\">ÐÐ°Ð¶Ð¼Ð¸ÑÐµ, ÑÑÐ¾Ð±Ñ Ð¿ÑÐ¾Ð´Ð¾Ð»Ð¶Ð¸ÑÑ</span></div></div><input hidden name=\"key\" value=\"3e9e5165-19e0bbe2-963fe7ed-b70d6510_2/1654509269/6a63a83ff512817dea2bfc2c038c35fd_b6307c3ebe31dff720130291f2d50a89\"><input hidden name=\"rdata\"><input hidden name=\"d\" value=\"IqxsP5zBlRdulRaTApSRWmFsN8sMgRdUXKhYFPlMnjA=\"><input hidden name=\"k\" value=\"1_1654509269_7370260010565196537_d892821f0d04913205be1e6353462c15\"></form></div></div><span class=\"Text Text_color_ghost Text_weight_regular Text_typography_control-xs\">ÐÑÐ»Ð¸ Ñ Ð²Ð°Ñ Ð²Ð¾Ð·Ð½Ð¸ÐºÐ»Ð¸ Ð¿ÑÐ¾Ð±Ð»ÐµÐ¼Ñ, Ð¿Ð¾Ð¶Ð°Ð»ÑÐ¹ÑÑÐ°, Ð²Ð¾ÑÐ¿Ð¾Ð»ÑÐ·ÑÐ¹ÑÐµÑÑÂ <a href=\"https://yandex.ru/support/smart-captcha/#help\" class=\"Link Link_view_default\">ÑÐ¾ÑÐ¼Ð¾Ð¹ Ð¾Ð±ÑÐ°ÑÐ½Ð¾Ð¹ ÑÐ²ÑÐ·Ð¸</a></span></div></div></div><script>window.__SSR_DATA__={url:\"/ru/checkbox\",reqId:\"1654509269170041-1300685063316638331-sas2-0843-sas-l7-balancer-8080-BAL\",invalid:\"no\",formAction:\"/checkcaptcha?key=3e9e5165-19e0bbe2-963fe7ed-b70d6510_2%2F1654509269%2F6a63a83ff512817dea2bfc2c038c35fd_b6307c3ebe31dff720130291f2d50a89&retpath=aHR0cHM6Ly95YW5kZXgucnUvc2VhcmNoP3RleHQ9U3RlcGljJnRlc3Q9dGVzdDEmbmFtZT1OYW1lK1dpdGgrU3BhY2VzJmxpc3Q9dGVzdDEmbGlzdD10ZXN0Mg%2C%2C_f8ace203917707b275965735ba829239&u=eeaa0195-11594766-5e33508-342de0f0\",captchaKey:\"3e9e5165-19e0bbe2-963fe7ed-b70d6510_2/1654509269/6a63a83ff512817dea2bfc2c038c35fd_b6307c3ebe31dff720130291f2d50a89\",imageSrc:\"\",voiceSrc:\"\",introSrc:\"\",aesKey:\"IqxsP5zBlRdulRaTApSRWmFsN8sMgRdUXKhYFPlMnjA=\",aesSign:\"1_1654509269_7370260010565196537_d892821f0d04913205be1e6353462c15\"}</script><script src=\"/captcha_smart_error.min.js?k=1632998364813\" crossorigin=\"\"></script><script src=\"https://yastatic.net/react/16.8.4/react-with-dom-and-polyfills.min.js\" crossorigin=\"\"></script><script src=\"/captcha_smart.min.js?k=1632998364813\" crossorigin=\"\"></script><script>!function(e,t,n,a,c){e.ym=e.ym||function(){(e.ym.a=e.ym.a||[]).push(arguments)},e.ym.l=+new Date,a=t.createElement(n),c=t.getElementsByTagName(n)[0],a.async=1,a.src=\"https://mc.yandex.ru/metrika/tag.js\",c.parentNode.insertBefore(a,c)}(window,document,\"script\"),ym(10630330,\"init\",{clickmap:!0,trackLinks:!0,accurateTrackBounce:!0,webvisor:!0,ut:\"noindex\",params:{req_id:\"1654509269170041-1300685063316638331-sas2-0843-sas-l7-balancer-8080-BAL\"}})</script><noscript><div><img src=\"https://mc.yandex.ru/watch/10630330?ut=noindex\" style=\"position:absolute;left:-9999px\" alt=\"\"></div></noscript><div><img src=\"https://adfstat.yandex.ru/captcha?req_id=1654509269170041-1300685063316638331-sas2-0843-sas-l7-balancer-8080-BAL\" style=\"position:absolute;left:-9999px\" alt=\"\"></div>\n"
     ]
    }
   ],
   "source": [
    "res = req.get(\"https://yandex.ru/search\", params={\n",
    "    \"text\":\"Stepic\",\n",
    "    \"test\":\"test1\",\n",
    "    \"name\":\"Name With Spaces\",\n",
    "    \"list\":[\"test1\", \"test2\"]\n",
    "    })\n",
    "print(res.status_code)\n",
    "# print(res.headers('Content-Type'))\n",
    "print(res.url)\n",
    "print(res.text)"
   ]
  }
 ],
 "metadata": {
  "interpreter": {
   "hash": "26de051ba29f2982a8de78e945f0abaf191376122a1563185a90213a26c5da77"
  },
  "kernelspec": {
   "display_name": "Python 3.10.4 64-bit",
   "language": "python",
   "name": "python3"
  },
  "language_info": {
   "codemirror_mode": {
    "name": "ipython",
    "version": 3
   },
   "file_extension": ".py",
   "mimetype": "text/x-python",
   "name": "python",
   "nbconvert_exporter": "python",
   "pygments_lexer": "ipython3",
   "version": "3.10.4"
  },
  "orig_nbformat": 4
 },
 "nbformat": 4,
 "nbformat_minor": 2
}
