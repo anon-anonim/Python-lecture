{
 "cells": [
  {
   "cell_type": "markdown",
   "metadata": {},
   "source": [
    "# 1.6 Наследование классов"
   ]
  },
  {
   "cell_type": "code",
   "execution_count": null,
   "metadata": {},
   "outputs": [],
   "source": [
    "class DerivedClassName(Base1,Base2,Base3): #Base.. родительские классы.\n",
    "\n",
    "    "
   ]
  },
  {
   "cell_type": "markdown",
   "metadata": {},
   "source": [
    "Множественное наследование"
   ]
  },
  {
   "cell_type": "code",
   "execution_count": null,
   "metadata": {},
   "outputs": [],
   "source": [
    "class D: pass\n",
    "class E: pass\n",
    "class B(D,E):pass\n",
    "class C: pass\n",
    "class A(B,C): pass\n",
    "\n",
    "# Проверка наследования \n",
    "\n",
    "issubclass (A,A) # True\n",
    "issubclass (C,D) # False\n",
    "issubclass (A,D) # True\n",
    "issubclass (C,object) # True\n",
    "issubclass (object,A) # False\n",
    "\n",
    "\n",
    "# Проверка наследования экземпляра класса\n",
    "\n",
    "x = A()\n",
    "\n",
    "isinstance (x, A) # True\n",
    "isinstance (x, B) # True\n",
    "isinstance (x, object) # True\n",
    "isinstance (x, str) # False\n",
    "\n",
    "# Порядок разрешения методов\n",
    "\n",
    "A.mro() # method resolution order"
   ]
  },
  {
   "cell_type": "markdown",
   "metadata": {},
   "source": [
    "![](../Paste_image/2022-05-11-17-48-43.png)\n"
   ]
  },
  {
   "cell_type": "markdown",
   "metadata": {},
   "source": [
    " Super ищет в родителях метод необходимый к исполнению\n",
    " \n",
    "![](../Paste_image/2022-05-11-18-36-59.png)\n"
   ]
  },
  {
   "cell_type": "markdown",
   "metadata": {},
   "source": [
    "## Пример "
   ]
  },
  {
   "cell_type": "code",
   "execution_count": 16,
   "metadata": {},
   "outputs": [],
   "source": [
    "class MyList (list):\n",
    "    def even_lenght(self): # добавляем метод к классу list.\n",
    "        return len (self)%2 == 0\n"
   ]
  },
  {
   "cell_type": "code",
   "execution_count": 17,
   "metadata": {},
   "outputs": [
    {
     "data": {
      "text/plain": [
       "True"
      ]
     },
     "execution_count": 17,
     "metadata": {},
     "output_type": "execute_result"
    }
   ],
   "source": [
    "x = MyList() # Создаем экземпляр класса\n",
    "x.extend([1,2,3,5])\n",
    "x.even_lenght()"
   ]
  },
  {
   "cell_type": "code",
   "execution_count": 18,
   "metadata": {},
   "outputs": [
    {
     "data": {
      "text/plain": [
       "True"
      ]
     },
     "execution_count": 18,
     "metadata": {},
     "output_type": "execute_result"
    }
   ],
   "source": [
    "# Можем ли мы использовать x как list ?\n",
    "\n",
    "isinstance (x, list)"
   ]
  },
  {
   "cell_type": "code",
   "execution_count": 21,
   "metadata": {},
   "outputs": [
    {
     "data": {
      "text/plain": [
       "[__main__.MyList, list, object]"
      ]
     },
     "execution_count": 21,
     "metadata": {},
     "output_type": "execute_result"
    }
   ],
   "source": [
    "# Порядок разрешения методов\n",
    "\n",
    "MyList.mro()"
   ]
  },
  {
   "cell_type": "markdown",
   "metadata": {},
   "source": [
    "Множественное наследование"
   ]
  },
  {
   "cell_type": "code",
   "execution_count": 23,
   "metadata": {},
   "outputs": [],
   "source": [
    "class EventLenghtMixin:\n",
    "    def even_length(self):\n",
    "        return len(self)%2 == 0\n",
    "\n",
    "class MyList_2 (list,EventLenghtMixin):\n",
    "    pass"
   ]
  },
  {
   "cell_type": "code",
   "execution_count": 25,
   "metadata": {},
   "outputs": [
    {
     "data": {
      "text/plain": [
       "[__main__.MyList_2, list, __main__.EventLenghtMixin, object]"
      ]
     },
     "execution_count": 25,
     "metadata": {},
     "output_type": "execute_result"
    }
   ],
   "source": [
    "MyList_2.mro()"
   ]
  },
  {
   "cell_type": "code",
   "execution_count": 26,
   "metadata": {},
   "outputs": [
    {
     "data": {
      "text/plain": [
       "False"
      ]
     },
     "execution_count": 26,
     "metadata": {},
     "output_type": "execute_result"
    }
   ],
   "source": [
    "x = MyList_2([1,2,3])\n",
    "x.even_length()"
   ]
  }
 ],
 "metadata": {
  "interpreter": {
   "hash": "b89b5cfaba6639976dc87ff2fec6d58faec662063367e2c229c520fe71072417"
  },
  "kernelspec": {
   "display_name": "Python 3.10.4 64-bit",
   "language": "python",
   "name": "python3"
  },
  "language_info": {
   "codemirror_mode": {
    "name": "ipython",
    "version": 3
   },
   "file_extension": ".py",
   "mimetype": "text/x-python",
   "name": "python",
   "nbconvert_exporter": "python",
   "pygments_lexer": "ipython3",
   "version": "3.10.4"
  },
  "orig_nbformat": 4
 },
 "nbformat": 4,
 "nbformat_minor": 2
}
