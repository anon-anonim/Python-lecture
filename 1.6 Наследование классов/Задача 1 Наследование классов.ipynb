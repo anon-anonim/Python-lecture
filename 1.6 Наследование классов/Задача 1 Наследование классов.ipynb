{
 "cells": [
  {
   "cell_type": "markdown",
   "metadata": {},
   "source": [
    "## **Задача 1**"
   ]
  },
  {
   "cell_type": "markdown",
   "metadata": {},
   "source": [
    "\n",
    "\n",
    "Вам дано описание наследования классов в следующем формате.\n",
    "<имя класса 1> : <имя класса 2> <имя класса 3> ... <имя класса k>\n",
    "Это означает, что класс 1 отнаследован от класса 2, класса 3, и т. д.\n",
    "\n",
    "Или эквивалентно записи:"
   ]
  },
  {
   "cell_type": "code",
   "execution_count": null,
   "metadata": {},
   "outputs": [],
   "source": [
    "class Class1(Class2, Class3 ... ClassK):\n",
    "    pass"
   ]
  },
  {
   "cell_type": "markdown",
   "metadata": {},
   "source": [
    "Класс A является прямым предком класса B, если B отнаследован от A:"
   ]
  },
  {
   "cell_type": "code",
   "execution_count": null,
   "metadata": {},
   "outputs": [],
   "source": [
    "class B(A):\n",
    "    pass"
   ]
  },
  {
   "cell_type": "markdown",
   "metadata": {},
   "source": [
    "Класс A является предком класса B, если\n",
    "A = B;\n",
    "A - прямой предок B\n",
    "существует такой класс C, что C - прямой предок B и A - предок C\n",
    "\n",
    "Например:"
   ]
  },
  {
   "cell_type": "code",
   "execution_count": null,
   "metadata": {},
   "outputs": [],
   "source": [
    "class B(A):\n",
    "    pass\n",
    "\n",
    "class C(B):\n",
    "    pass\n",
    "\n",
    "# A -- предок С"
   ]
  },
  {
   "cell_type": "markdown",
   "metadata": {},
   "source": [
    "Вам необходимо отвечать на запросы, является ли один класс предком другого класса\n",
    "\n",
    "Важное примечание:\n",
    "Создавать классы не требуется.\n",
    "Мы просим вас промоделировать этот процесс, и понять существует ли путь от одного класса до другого."
   ]
  },
  {
   "cell_type": "markdown",
   "metadata": {},
   "source": [
    "**Формат входных данных**\n",
    "\n",
    "В первой строке входных данных содержится целое число n - число классов.\n",
    "\n",
    "В следующих n строках содержится описание наследования классов. В i-й строке указано от каких классов наследуется i-й класс. Обратите внимание, что класс может ни от кого не наследоваться. Гарантируется, что класс не наследуется сам от себя (прямо или косвенно), что класс не наследуется явно от одного класса более одного раза.\n",
    "\n",
    "В следующей строке содержится число q - количество запросов.\n",
    "\n",
    "В следующих q строках содержится описание запросов в формате <имя класса 1> <имя класса 2>.\n",
    "Имя класса – строка, состоящая из символов латинского алфавита, длины не более 50.\n",
    "\n",
    "**Формат выходных данных**\n",
    "\n",
    "Для каждого запроса выведите в отдельной строке слово \"Yes\", если класс 1 является предком класса 2, и \"No\", если не является."
   ]
  },
  {
   "cell_type": "markdown",
   "metadata": {},
   "source": [
    "> **Sample Input:**\n",
    "\n",
    "* 4\n",
    "* A\n",
    "* B : A\n",
    "* C : A\n",
    "* D : B C\n",
    "* 4\n",
    "* A B\n",
    "* B D\n",
    "* C D\n",
    "* D A\n",
    "\n",
    "> **Sample Output:**\n",
    "\n",
    "* *Yes* \n",
    "* *Yes*\n",
    "* *Yes*\n",
    "* *No*"
   ]
  },
  {
   "cell_type": "markdown",
   "metadata": {},
   "source": [
    "## Решение"
   ]
  },
  {
   "cell_type": "code",
   "execution_count": 2,
   "metadata": {},
   "outputs": [],
   "source": [
    "class MyInput:\n",
    "    n = int(0)\n",
    "    data_lst = list()\n",
    "    data_dct = dict()\n",
    "    data_lst_tuple = list()\n",
    "\n",
    "    def __init__(self):\n",
    "        self.n = int(0)\n",
    "        self.data_lst = list()\n",
    "        self.data_dct = dict()\n",
    "        self.data_lst_tuple = list()\n",
    "\n",
    "    def n_input(self):\n",
    "        self.n = int(input())\n",
    "        return self.n\n",
    "\n",
    "    def data_lst_input(self):\n",
    "        rng = self.n\n",
    "        for i in range(rng):\n",
    "            self.data_lst.append(input())\n",
    "        return self.data_lst\n",
    "\n",
    "    def data_lst_to_dct(self):\n",
    "        for st in self.data_lst:\n",
    "            if st.find(':') >= 0:\n",
    "                self.data_dct.update([st.split(' : ')])\n",
    "            else:\n",
    "                self.data_dct.update([(str(st), set())])\n",
    "        return self.data_dct\n",
    "\n",
    "    def data_dct_values_to_set(self):\n",
    "        for key, values in self.data_dct.items():\n",
    "            if values == None:\n",
    "                continue\n",
    "            if len(values) > 1:\n",
    "                self.data_dct.update([(key, set(values.split(' ')))])\n",
    "                continue\n",
    "            self.data_dct.update([(key, set(values))])\n",
    "        return self.data_dct\n",
    "\n",
    "    def data_lst_to_tuple(self):\n",
    "        for two in self.data_lst:\n",
    "            self.data_lst_tuple.append((two.split(' ')[0], two.split(' ')[1]))\n",
    "        return self.data_lst_tuple\n",
    "\n",
    "\n",
    "inpt = MyInput()\n",
    "request_impt = MyInput()\n",
    "\n",
    "inpt.n_input()\n",
    "inpt.data_lst_input()\n",
    "inpt.data_lst_to_dct()\n",
    "inpt.data_dct_values_to_set()\n",
    "\n",
    "request_impt.n_input()\n",
    "request_impt.data_lst_input()\n",
    "request_impt.data_lst_to_tuple()\n",
    "\n",
    "tree = inpt.data_dct  # {'A': set(), 'B': {'A'}, 'C': {'A'}, 'D': {'C', 'B'}}\n",
    "quest = request_impt.data_lst_tuple  # [('A', 'B'), ('B', 'D'), ('C', 'D'), ('D', 'A')]\n",
    "\n",
    "\n",
    "def seach(desired, target, tree):\n",
    "    if desired == target:\n",
    "        return 'Yes'\n",
    "    elif desired in tree.get(target):\n",
    "        return 'Yes'\n",
    "    else:\n",
    "        for value in tree.get(target):\n",
    "            if seach(desired, value, tree) == 'Yes':\n",
    "                return 'Yes'\n",
    "\n",
    "\n",
    "for two in quest:\n",
    "    desired = two[0]\n",
    "    target = two[1]\n",
    "    if seach(desired, target, tree) == 'Yes':\n",
    "        print('Yes')\n",
    "    else:\n",
    "        print('No')\n",
    "\n",
    "# print()\n",
    "# print(inpt.data_dct)\n",
    "# print(quest)\n",
    "# print(request_impt.data_lst)\n",
    "\n",
    "        \n",
    "\n",
    "\n"
   ]
  },
  {
   "cell_type": "markdown",
   "metadata": {},
   "source": [
    "### Решение Степана"
   ]
  },
  {
   "cell_type": "code",
   "execution_count": null,
   "metadata": {},
   "outputs": [],
   "source": [
    "entities = {}\n",
    "for i in range(int(input())):\n",
    "\tuser_input = input().split(' : ')\n",
    "\tname = user_input[0]\n",
    "\tif len(user_input) > 1:\n",
    "\t\tentities.setdefault(name, user_input[1].split(' '))\n",
    "\t\tcontinue\n",
    "\tentities.setdefault(name, [])\n",
    "\n",
    "result = []\n",
    "def is_child(child, target):\n",
    "\tif child == target:\n",
    "\t\treturn 'Yes'\n",
    "\tparents = entities.get(child)\n",
    "\tfor parent in parents:\n",
    "\t\tif parent == target:\n",
    "\t\t\treturn 'Yes'\n",
    "\tfor parent in parents:\n",
    "\t\tif is_child(parent, target) == 'Yes':\n",
    "\t\t\treturn 'Yes'\n",
    "\treturn 'No'\n",
    "\n",
    "for i in range(int(input())):\n",
    "\tparent, child = input().split(' ')\n",
    "\tresult.append(is_child(child, parent))\n",
    "\n",
    "for answer in result:\n",
    "\tprint(answer)"
   ]
  }
 ],
 "metadata": {
  "interpreter": {
   "hash": "26de051ba29f2982a8de78e945f0abaf191376122a1563185a90213a26c5da77"
  },
  "kernelspec": {
   "display_name": "Python 3.10.4 64-bit",
   "language": "python",
   "name": "python3"
  },
  "language_info": {
   "codemirror_mode": {
    "name": "ipython",
    "version": 3
   },
   "file_extension": ".py",
   "mimetype": "text/x-python",
   "name": "python",
   "nbconvert_exporter": "python",
   "pygments_lexer": "ipython3",
   "version": "3.10.4"
  },
  "orig_nbformat": 4
 },
 "nbformat": 4,
 "nbformat_minor": 2
}
